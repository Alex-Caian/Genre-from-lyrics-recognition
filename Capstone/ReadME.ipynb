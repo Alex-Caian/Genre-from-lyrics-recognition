{
 "cells": [
  {
   "cell_type": "markdown",
   "id": "f739d56f",
   "metadata": {},
   "source": [
    "## Navigating the branch\n",
    "\n",
    "You are now in the main branch of the project. There are 4 folders available:\n",
    "\n",
    "\n",
    "1. **Data** : Contains the datasets (in original as well as those used after processing). Folder consists of 2 subfolders splitting 5 files. Other data used for specific models can be found in the Pickles folder.\n",
    "\n",
    "\n",
    "> You can access it [here](https://github.com/Alex-Caian/Genre-from-lyrics-recognition/tree/main/Capstone/Data)\n",
    "\n",
    "\n",
    "2. **Vis tools** : Contains tools used for visualisations that appear throughout the portfolio (see Portfolio). Folder consists of 2 subfolders splitting 6 files. \n",
    "\n",
    "\n",
    "> You can access it [here](https://github.com/Alex-Caian/Genre-from-lyrics-recognition/tree/main/Capstone/Visual%20tools)\n",
    "\n",
    "\n",
    "3. **Pickles** : Contains models and other data files that are explicitly saved/loaded, primarily for testing the algorithm. Folder consists of 2 subfolders splitting 6 files.\n",
    "\n",
    "\n",
    "> You can access it [here](https://github.com/Alex-Caian/Genre-from-lyrics-recognition/tree/main/Capstone/Pickles)\n",
    "\n",
    "\n",
    "4. **Portfolio** : Contains the main notebook works, as well as an extra ReadME with instructions on how to progress through them. Folder consists of 8 files (7 notebooks + 1 ReadME).\n",
    "\n",
    "\n",
    "> You can access it [here](https://github.com/Alex-Caian/Genre-from-lyrics-recognition/tree/main/Capstone/Portfolio)"
   ]
  }
 ],
 "metadata": {
  "kernelspec": {
   "display_name": "Python 3",
   "language": "python",
   "name": "python3"
  },
  "language_info": {
   "codemirror_mode": {
    "name": "ipython",
    "version": 3
   },
   "file_extension": ".py",
   "mimetype": "text/x-python",
   "name": "python",
   "nbconvert_exporter": "python",
   "pygments_lexer": "ipython3",
   "version": "3.8.8"
  }
 },
 "nbformat": 4,
 "nbformat_minor": 5
}
