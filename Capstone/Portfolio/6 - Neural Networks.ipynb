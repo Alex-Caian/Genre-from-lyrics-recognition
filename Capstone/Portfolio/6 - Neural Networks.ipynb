{
 "cells": [
  {
   "cell_type": "markdown",
   "id": "ba0abe7a",
   "metadata": {},
   "source": [
    "# Neural Networks (NN)\n",
    "\n",
    "### Pre-requisites\n",
    "\n",
    "Similarly to our previous notebooks, the following modules and/or packages are required. These have been previously explained in related notebooks."
   ]
  },
  {
   "cell_type": "code",
   "execution_count": 1,
   "id": "3b66fd1a",
   "metadata": {},
   "outputs": [],
   "source": [
    "from tensorflow.python.eager.context import get_config\n",
    "from tensorflow import keras \n",
    "from keras.models import Sequential\n",
    "from keras.layers import LSTM, Dense, Dropout, Masking, Embedding\n",
    "\n",
    "import tensorflow as tf\n",
    "from tensorflow.keras.preprocessing.text import Tokenizer\n",
    "from keras.models import Sequential\n",
    "from keras.layers import LSTM, Dense, Dropout, Masking, Embedding\n",
    "\n",
    "# from keras import load_model\n",
    "from keras.callbacks import EarlyStopping, ModelCheckpoint\n",
    "\n",
    "from keras.utils.vis_utils import plot_model\n",
    "import pydot\n",
    "import graphviz"
   ]
  },
  {
   "cell_type": "code",
   "execution_count": 2,
   "id": "dd15bd0c",
   "metadata": {},
   "outputs": [],
   "source": [
    "import numpy as np\n",
    "import pandas as pd\n",
    "\n",
    "import seaborn as sns\n",
    "import matplotlib.pyplot as plt\n",
    "\n",
    "import nltk\n",
    "from nltk.corpus import stopwords\n",
    "from nltk.tokenize import wordpunct_tokenize\n",
    "\n",
    "from nltk.tokenize import word_tokenize\n",
    "from nltk.stem.porter import PorterStemmer\n",
    "from nltk.stem.lancaster import LancasterStemmer\n",
    "from nltk.stem import WordNetLemmatizer, SnowballStemmer\n",
    "## nltk.download('stopwords')\n",
    "## nltk.download('punkt')\n",
    "\n",
    "from sklearn.feature_extraction.text import CountVectorizer\n",
    "from sklearn.linear_model import LogisticRegression\n",
    "\n",
    "from sklearn.model_selection import train_test_split, cross_val_score, GridSearchCV\n",
    "from sklearn.neural_network import MLPClassifier\n",
    "from sklearn.metrics import confusion_matrix, accuracy_score\n",
    "from sklearn import metrics\n",
    "\n",
    "from word2number import w2n\n",
    "import string\n",
    "import re\n",
    "\n",
    "from time import time\n",
    "import pickle\n",
    "import os\n",
    "\n",
    "import random\n",
    "from random import sample"
   ]
  },
  {
   "cell_type": "markdown",
   "id": "c0bb514e",
   "metadata": {},
   "source": [
    "We change the work directory accordingly to where our data from the previous analysis was stored."
   ]
  },
  {
   "cell_type": "code",
   "execution_count": 3,
   "id": "06b753b4",
   "metadata": {},
   "outputs": [],
   "source": [
    "os.chdir(\"D://Datasets//Various Datasets\")"
   ]
  },
  {
   "cell_type": "markdown",
   "id": "e12773dd",
   "metadata": {},
   "source": [
    "We now load the files (and close them!) using pickles. The 3 variables will contain:\n",
    "- 'data' : The lyrics, pre-processed and cleaned\n",
    "\n",
    "- 'seq' : The lyrics, sequentially transformed. Loading this is optional, since we transform them any way.\n",
    "\n",
    "- 'genre' : The target variable, i.e. the genres to be predicted"
   ]
  },
  {
   "cell_type": "code",
   "execution_count": 181,
   "id": "b5a38cea",
   "metadata": {},
   "outputs": [],
   "source": [
    "file_1 = open('lyrics.sav', 'rb')\n",
    "file_2 = open('sequences.sav', 'rb')\n",
    "file_3 = open('Target.sav', 'rb')\n",
    "\n",
    "data = pickle.load(file_1)\n",
    "seq = pickle.load(file_2)\n",
    "genre = pickle.load(file_3)\n",
    "\n",
    "file_1.close()\n",
    "file_2.close()\n",
    "file_3.close()"
   ]
  },
  {
   "cell_type": "markdown",
   "id": "0a11be12",
   "metadata": {},
   "source": [
    "## Recurrent Neural Net - RNN\n",
    "\n",
    "The first approach to NN implementation we take is using bidirectional, dynamic networks with the ability to back-and-forth propagate information - known as recurrent neural networks (RNN). The main advantage of such graphs is that information is perpetually improved, as well as preserved to earlier states depending on epoch, by retaining memory of the epochs in a local log. \n",
    "\n",
    "\n",
    "Unlike other NNs like Word2Vec, or techniques such as skip-grams or N-grams, RNNs do not rely on contextual analysis: which would be unsuitable for song analysis, as they do not respect context or circumstances, unlike books or novels. Therefore, a more simple approach is preferred in these situations, as long as we find a way to reliable transform data into a numerical format.\n",
    "\n",
    "First, let's look at whether the data has translated correctly:"
   ]
  },
  {
   "cell_type": "code",
   "execution_count": 182,
   "id": "e122ec65",
   "metadata": {},
   "outputs": [
    {
     "data": {
      "text/plain": [
       "79452"
      ]
     },
     "execution_count": 182,
     "metadata": {},
     "output_type": "execute_result"
    }
   ],
   "source": [
    "len(data)"
   ]
  },
  {
   "cell_type": "markdown",
   "id": "206ebfaa",
   "metadata": {},
   "source": [
    "First, we set out threshold to the number of words we want to consider from a song. We might not be interested in songs with fewer than 40 words, for example. Let's set an initial expectation at 100:"
   ]
  },
  {
   "cell_type": "code",
   "execution_count": 183,
   "id": "2dadb3bf",
   "metadata": {},
   "outputs": [],
   "source": [
    "threshold=100"
   ]
  },
  {
   "cell_type": "markdown",
   "id": "56015f14",
   "metadata": {},
   "source": [
    "We then initialize the tokenizer from keras. This will be necessary, despite having already tokenized the lyrics, so we can fit it in order to perform sequentialization of the data: i.e. getting words to numbers."
   ]
  },
  {
   "cell_type": "code",
   "execution_count": 184,
   "id": "5bdc07b6",
   "metadata": {},
   "outputs": [],
   "source": [
    "tokenizer = Tokenizer(\n",
    "    num_words=None,\n",
    "    filters='!\"#$%&()*+,-./:;<=>?@[\\\\]^_`{|}~\\t\\n',\n",
    "    lower=True, split=' ')"
   ]
  },
  {
   "cell_type": "markdown",
   "id": "f8bce0eb",
   "metadata": {},
   "source": [
    "We now fit it on the entire data:"
   ]
  },
  {
   "cell_type": "code",
   "execution_count": 185,
   "id": "584bc3d3",
   "metadata": {},
   "outputs": [],
   "source": [
    "tokenizer.fit_on_texts(data)"
   ]
  },
  {
   "cell_type": "markdown",
   "id": "763e8ec6",
   "metadata": {},
   "source": [
    "Now we can define the sequences. This is identical to our 'seq' variable that we have imported."
   ]
  },
  {
   "cell_type": "code",
   "execution_count": 186,
   "id": "17cd6307",
   "metadata": {},
   "outputs": [],
   "source": [
    "sequences = tokenizer.texts_to_sequences(data)"
   ]
  },
  {
   "cell_type": "markdown",
   "id": "cd36f75c",
   "metadata": {},
   "source": [
    "We create the dataset by binding together the sequences, lyrics and genres:"
   ]
  },
  {
   "cell_type": "code",
   "execution_count": 187,
   "id": "028edb5b",
   "metadata": {},
   "outputs": [],
   "source": [
    "data = pd.concat([pd.Series(data), genre, pd.Series(sequences)], axis=1)\n",
    "data.columns = ['Lyrics', 'Genre', 'Numeric_lyrics']"
   ]
  },
  {
   "cell_type": "markdown",
   "id": "eb7a0333",
   "metadata": {},
   "source": [
    "We now split the data into our usual train/test split:"
   ]
  },
  {
   "cell_type": "code",
   "execution_count": 188,
   "id": "38a88dba",
   "metadata": {},
   "outputs": [],
   "source": [
    "X = data['Lyrics']\n",
    "y = data['Genre']\n",
    "X_train, X_test, y_train, y_test = train_test_split(X, y, test_size = 0.2, random_state = 124, stratify=y)"
   ]
  },
  {
   "cell_type": "markdown",
   "id": "b078b040",
   "metadata": {},
   "source": [
    "Lastly, we should transform the train and test accordingly instead:"
   ]
  },
  {
   "cell_type": "code",
   "execution_count": 189,
   "id": "350a50d5",
   "metadata": {},
   "outputs": [
    {
     "data": {
      "text/plain": [
       "[377, 13, 18, 63, 620, 213, 1486, 26, 147, 554, 399, 213, 16, 159, 12]"
      ]
     },
     "execution_count": 189,
     "metadata": {},
     "output_type": "execute_result"
    }
   ],
   "source": [
    "sequences_train = tokenizer.texts_to_sequences(X_train)\n",
    "sequences_test = tokenizer.texts_to_sequences(X_test)\n",
    "sequences_train[0][:15]"
   ]
  },
  {
   "cell_type": "markdown",
   "id": "4184cdc6",
   "metadata": {},
   "source": [
    "We save the indices from the entire data (i.e. those fit on both train+test together), so we can re-trace their marking on the lyrics (using only the resulting numbers)"
   ]
  },
  {
   "cell_type": "code",
   "execution_count": 190,
   "id": "e0549203",
   "metadata": {},
   "outputs": [
    {
     "data": {
      "text/plain": [
       "'sorri babi take hand wing alright haha look sun search moon alright say fli yeah'"
      ]
     },
     "execution_count": 190,
     "metadata": {},
     "output_type": "execute_result"
    }
   ],
   "source": [
    "idx_word = tokenizer.index_word\n",
    "\n",
    "' '.join(idx_word[w] for w in sequences_train[0][:15])"
   ]
  },
  {
   "cell_type": "markdown",
   "id": "0e44f43e",
   "metadata": {},
   "source": [
    "Now: One issue we encounter is that not all songs have the same length, i.e. number of words. However, what we can feasibly look at is a set threshold for the minimum number of words to compare against. Therefore, we start by looking at the number of words for each of our 2 splits:"
   ]
  },
  {
   "cell_type": "code",
   "execution_count": 191,
   "id": "2f60103d",
   "metadata": {},
   "outputs": [],
   "source": [
    "train_len = [len(x) for x in sequences_train]\n",
    "test_len = [len(x) for x in sequences_test]\n",
    "\n",
    "y_train = pd.DataFrame(y_train)\n",
    "y_test = pd.DataFrame(y_test)\n",
    "y_train.columns = ['Genre']\n",
    "y_test.columns = ['Genre']"
   ]
  },
  {
   "cell_type": "code",
   "execution_count": 192,
   "id": "7dc692c7",
   "metadata": {},
   "outputs": [],
   "source": [
    "y_train['ind'] = np.where(pd.Series(train_len)>=threshold, 1, 0)\n",
    "y_test['ind'] = np.where(pd.Series(test_len)>=threshold, 1, 0)"
   ]
  },
  {
   "cell_type": "code",
   "execution_count": 193,
   "id": "0fe2d2c0",
   "metadata": {},
   "outputs": [],
   "source": [
    "target_train = y_train['Genre'].loc[y_train['ind']==1].reset_index(drop=True)\n",
    "target_test = y_test['Genre'].loc[y_test['ind']==1].reset_index(drop=True)"
   ]
  },
  {
   "cell_type": "code",
   "execution_count": 194,
   "id": "92ff61aa",
   "metadata": {},
   "outputs": [
    {
     "data": {
      "text/plain": [
       "0    0\n",
       "1    2\n",
       "2    0\n",
       "3    0\n",
       "4    2\n",
       "Name: Genre, dtype: int64"
      ]
     },
     "execution_count": 194,
     "metadata": {},
     "output_type": "execute_result"
    }
   ],
   "source": [
    "target_train.head()"
   ]
  },
  {
   "cell_type": "markdown",
   "id": "66719794",
   "metadata": {},
   "source": [
    "Based on the findings, we decide to set an initial threshold of 100:"
   ]
  },
  {
   "cell_type": "code",
   "execution_count": 195,
   "id": "b19cb43b",
   "metadata": {},
   "outputs": [],
   "source": [
    "sequences_train = [seq for seq in sequences_train if len(seq)>=threshold]\n",
    "sequences_test = [seq for seq in sequences_test if len(seq)>=threshold]\n",
    "\n",
    "sequences_train = [seq[:threshold] for seq in sequences_train]\n",
    "sequences_test = [seq[:threshold] for seq in sequences_test]"
   ]
  },
  {
   "cell_type": "markdown",
   "id": "f6a4867d",
   "metadata": {},
   "source": [
    "We now construct the model architecture-wise. Crucially, the first layer is an LSTM layer - which is commonly used in text predictive/classification oriented NNs."
   ]
  },
  {
   "cell_type": "code",
   "execution_count": 196,
   "id": "0ab1da7d",
   "metadata": {},
   "outputs": [],
   "source": [
    "model = Sequential()\n",
    "\n",
    "model.add(LSTM(64, activation='relu',\n",
    "               input_shape=(threshold,1), return_sequences=True))\n",
    "model.add(Dropout(0.5))\n",
    "model.add(LSTM(64, activation='relu'))\n",
    "model.add(Dropout(0.5))\n",
    "model.add(Dense(32, activation='relu'))\n",
    "model.add(Dropout(0.5))\n",
    "model.add(Dense(1, activation='relu'))\n",
    "\n",
    "model.compile(optimizer='adam',\n",
    "              loss='binary_crossentropy',\n",
    "              metrics=['accuracy'])"
   ]
  },
  {
   "cell_type": "markdown",
   "id": "e2ef1a4f",
   "metadata": {},
   "source": [
    "We may now take a look at the model summary."
   ]
  },
  {
   "cell_type": "code",
   "execution_count": 197,
   "id": "a9ae48d4",
   "metadata": {},
   "outputs": [
    {
     "name": "stdout",
     "output_type": "stream",
     "text": [
      "Model: \"sequential_7\"\n",
      "_________________________________________________________________\n",
      " Layer (type)                Output Shape              Param #   \n",
      "=================================================================\n",
      " lstm_14 (LSTM)              (None, 100, 64)           16896     \n",
      "                                                                 \n",
      " dropout_21 (Dropout)        (None, 100, 64)           0         \n",
      "                                                                 \n",
      " lstm_15 (LSTM)              (None, 64)                33024     \n",
      "                                                                 \n",
      " dropout_22 (Dropout)        (None, 64)                0         \n",
      "                                                                 \n",
      " dense_14 (Dense)            (None, 32)                2080      \n",
      "                                                                 \n",
      " dropout_23 (Dropout)        (None, 32)                0         \n",
      "                                                                 \n",
      " dense_15 (Dense)            (None, 1)                 33        \n",
      "                                                                 \n",
      "=================================================================\n",
      "Total params: 52,033\n",
      "Trainable params: 52,033\n",
      "Non-trainable params: 0\n",
      "_________________________________________________________________\n"
     ]
    }
   ],
   "source": [
    "model.summary()"
   ]
  },
  {
   "cell_type": "markdown",
   "id": "be7148d9",
   "metadata": {},
   "source": [
    "We now need to fit our data. However, we would need to get it into a format accepted by the tf-keras framework. Firstly, the lists need translating to series:"
   ]
  },
  {
   "cell_type": "code",
   "execution_count": 198,
   "id": "01db13ee",
   "metadata": {},
   "outputs": [],
   "source": [
    "X_train = pd.Series(sequences_train)\n",
    "X_test = pd.Series(sequences_test)\n",
    "\n",
    "y_train = target_train.copy()\n",
    "y_test = target_test.copy()"
   ]
  },
  {
   "cell_type": "markdown",
   "id": "ed975fd0",
   "metadata": {},
   "source": [
    "Let's check the outcome:"
   ]
  },
  {
   "cell_type": "code",
   "execution_count": 199,
   "id": "89bad7a8",
   "metadata": {},
   "outputs": [
    {
     "data": {
      "text/plain": [
       "0    [34, 136, 1004, 45, 136, 192, 384, 616, 112, 8...\n",
       "1    [431, 658, 264, 79, 79, 377, 56, 551, 74, 204,...\n",
       "2    [11, 48, 40, 174, 174, 11, 11, 1355, 776, 1355...\n",
       "3    [1304, 29, 23, 1579, 156, 1333, 345, 28, 86, 1...\n",
       "4    [50, 16264, 39, 1834, 97, 89, 2, 20, 86, 11, 2...\n",
       "dtype: object"
      ]
     },
     "execution_count": 199,
     "metadata": {},
     "output_type": "execute_result"
    }
   ],
   "source": [
    "X_train.head()"
   ]
  },
  {
   "cell_type": "markdown",
   "id": "19759073",
   "metadata": {},
   "source": [
    "We perform a quick match between our splits, to ensure we retained the correct dimensions:"
   ]
  },
  {
   "cell_type": "code",
   "execution_count": 200,
   "id": "e11fe8bc",
   "metadata": {},
   "outputs": [
    {
     "name": "stdout",
     "output_type": "stream",
     "text": [
      "Sanity test outcome for training: True\n",
      "Sanity test outcome for testing: True\n"
     ]
    }
   ],
   "source": [
    "print(f'Sanity test outcome for training: {y_train.shape == X_train.shape}')\n",
    "print(f'Sanity test outcome for testing: {y_test.shape == X_test.shape}')"
   ]
  },
  {
   "cell_type": "markdown",
   "id": "ddee390b",
   "metadata": {},
   "source": [
    "Then, we transform the lists output above into a readable format for the NN - by translating them into columns for a dataframe. We add them together to construct the necessary 'final' testing and training sets respectively."
   ]
  },
  {
   "cell_type": "code",
   "execution_count": 203,
   "id": "98c0f068",
   "metadata": {},
   "outputs": [],
   "source": [
    "for i in range(threshold):\n",
    "    globals()['X_good_{}'.format(i)] = [int(X_train[j][i]) for j in range(len(X_train))]\n",
    "    globals()['X_bad_{}'.format(i)] = [int(X_test[j][i]) for j in range(len(X_test))]"
   ]
  },
  {
   "cell_type": "code",
   "execution_count": 204,
   "id": "280e8fb2",
   "metadata": {},
   "outputs": [],
   "source": [
    "X_final_train = pd.concat([pd.Series(globals()['X_good_{}'.format(i)]) for i in range(threshold)], axis=1)\n",
    "X_final_test = pd.concat([pd.Series(globals()['X_bad_{}'.format(i)]) for i in range(threshold)], axis=1)"
   ]
  },
  {
   "cell_type": "markdown",
   "id": "6dec5837",
   "metadata": {},
   "source": [
    "We are now prepared fit the model:"
   ]
  },
  {
   "cell_type": "code",
   "execution_count": 205,
   "id": "4cd6858d",
   "metadata": {},
   "outputs": [
    {
     "name": "stdout",
     "output_type": "stream",
     "text": [
      "Epoch 1/5\n",
      "1056/1056 [==============================] - 103s 95ms/step - loss: 5.1467 - accuracy: 0.3091 - val_loss: 2.5913 - val_accuracy: 0.2631\n",
      "Epoch 2/5\n",
      "1056/1056 [==============================] - 106s 100ms/step - loss: 3.2820 - accuracy: 0.2820 - val_loss: 1.6029 - val_accuracy: 0.2578\n",
      "Epoch 3/5\n",
      "1056/1056 [==============================] - 114s 108ms/step - loss: 2.7585 - accuracy: 0.2727 - val_loss: 1.5956 - val_accuracy: 0.2579\n",
      "Epoch 4/5\n",
      "1056/1056 [==============================] - 112s 106ms/step - loss: 2.6386 - accuracy: 0.2722 - val_loss: 1.5956 - val_accuracy: 0.2579\n",
      "Epoch 5/5\n",
      "1056/1056 [==============================] - 113s 107ms/step - loss: 2.4313 - accuracy: 0.2694 - val_loss: 1.6029 - val_accuracy: 0.2578\n"
     ]
    }
   ],
   "source": [
    "history = model.fit(X_final_train,y_train,epochs=5, validation_data=(X_final_test,y_test))"
   ]
  },
  {
   "cell_type": "markdown",
   "id": "cf7d1778",
   "metadata": {},
   "source": [
    "We can notice that, from one epoch to the other, the loss decreases - indicating a trend of progressive learning. However, the primary evaluation accuracies decrease as well, leading to very similar overall accuracies in the end. There are many steps that could be tried given these tendencies: first of all, providing more data. Clearly, the information gain of the RNN is weak to the point that architectural choice wouldn't notably infleunce the outcome.\n",
    "\n",
    "Nevertheless, results from this model seem to be underwhelming, as a result of deep recursive learning of noisy data. Therefore, it is preferable we take an alternate - and more basic - approach to the problem."
   ]
  },
  {
   "cell_type": "markdown",
   "id": "a749740b",
   "metadata": {},
   "source": [
    "## Simple MLP (Multi Layer Perceptron)\n",
    "\n",
    "Perhaps somewhat counterintuitively, previous approaches seem to indicate that we might have better success by using less powerful tools, but more cleverly. The most basic type of neural networks is an SLP (Single Layer Perceptron), which is made of only one input, one ouput and a single hidden layer in between.\n",
    "\n",
    "An MLP simply adds more hidden layers to the process, with the option to drawback on a simple SLP by implicit architecture choice. This offers a wider range of hyper-parameter tuning potential, as well as more flexibility. Let's start by setting a threshold for the # of words selected from sequences, just like we did for RNN:"
   ]
  },
  {
   "cell_type": "code",
   "execution_count": 206,
   "id": "e0e18a01",
   "metadata": {},
   "outputs": [],
   "source": [
    "threshold=200"
   ]
  },
  {
   "cell_type": "markdown",
   "id": "a287f4e7",
   "metadata": {},
   "source": [
    "We will then define our feature+target based on the threshold. "
   ]
  },
  {
   "cell_type": "code",
   "execution_count": 207,
   "id": "46c60de9",
   "metadata": {},
   "outputs": [],
   "source": [
    "## Get the initial data as uploaded\n",
    "X = seq\n",
    "y = genre\n",
    "\n",
    "## Select only data with more than threshold words per song\n",
    "X_good = X[X.str.len()>threshold]\n",
    "idx = X_good.index\n",
    "y = y[y.index.isin(idx)].copy() ## Set the target to match our selection\n",
    "\n",
    "## Reset the index to avoid extra, unwanted column\n",
    "X_good = X_good.reset_index(drop=True)\n",
    "y = y.reset_index(drop=True)"
   ]
  },
  {
   "cell_type": "markdown",
   "id": "5d767357",
   "metadata": {},
   "source": [
    "We now need to bind the words into singular values, bu column. To do that, we transform them into columns 1 by 1 rather than an array, to create M features for the task where M = threshold chosen."
   ]
  },
  {
   "cell_type": "code",
   "execution_count": 208,
   "id": "6ac0f8ab",
   "metadata": {},
   "outputs": [],
   "source": [
    "for i in range(threshold):\n",
    "    globals()['X_good_{}'.format(i)] = [int(X_good[j][i]) for j in range(len(X_good))]"
   ]
  },
  {
   "cell_type": "markdown",
   "id": "5ba2f0c1",
   "metadata": {},
   "source": [
    "We then transform them all into series, so they can later be combined into a single dataframe"
   ]
  },
  {
   "cell_type": "code",
   "execution_count": 209,
   "id": "2f43c031",
   "metadata": {},
   "outputs": [],
   "source": [
    "for i in range(threshold):\n",
    "    globals()['X_good_{}'.format(i)] = pd.Series(globals()['X_good_{}'.format(i)])"
   ]
  },
  {
   "cell_type": "markdown",
   "id": "d189d68a",
   "metadata": {},
   "source": [
    "Output a sample of our methods:"
   ]
  },
  {
   "cell_type": "code",
   "execution_count": 210,
   "id": "981813d5",
   "metadata": {},
   "outputs": [
    {
     "data": {
      "text/plain": [
       "0    39991\n",
       "1      966\n",
       "2        5\n",
       "3       49\n",
       "4      372\n",
       "dtype: int64"
      ]
     },
     "execution_count": 210,
     "metadata": {},
     "output_type": "execute_result"
    }
   ],
   "source": [
    "X_good_0.head()"
   ]
  },
  {
   "cell_type": "markdown",
   "id": "a10928b8",
   "metadata": {},
   "source": [
    "We can now concatenate them into the final data:"
   ]
  },
  {
   "cell_type": "code",
   "execution_count": 211,
   "id": "f86edd83",
   "metadata": {},
   "outputs": [],
   "source": [
    "X_final = pd.concat([globals()['X_good_{}'.format(i)] for i in range(threshold)], axis=1)"
   ]
  },
  {
   "cell_type": "code",
   "execution_count": 212,
   "id": "4de8a225",
   "metadata": {},
   "outputs": [
    {
     "data": {
      "text/plain": [
       "(11088, 200)"
      ]
     },
     "execution_count": 212,
     "metadata": {},
     "output_type": "execute_result"
    }
   ],
   "source": [
    "X_final.shape"
   ]
  },
  {
   "cell_type": "markdown",
   "id": "40f524c0",
   "metadata": {},
   "source": [
    "Lastly, check that the shape of the target matches our expectations before performing our split."
   ]
  },
  {
   "cell_type": "code",
   "execution_count": 213,
   "id": "2e2cdfb9",
   "metadata": {},
   "outputs": [
    {
     "data": {
      "text/plain": [
       "(11088,)"
      ]
     },
     "execution_count": 213,
     "metadata": {},
     "output_type": "execute_result"
    }
   ],
   "source": [
    "y.shape"
   ]
  },
  {
   "cell_type": "markdown",
   "id": "a62beece",
   "metadata": {},
   "source": [
    "Perform the train/test split"
   ]
  },
  {
   "cell_type": "code",
   "execution_count": 214,
   "id": "64d68308",
   "metadata": {},
   "outputs": [],
   "source": [
    "X_train, X_test, y_train, y_test = train_test_split(X_final, y, test_size = 0.2, random_state = 124, stratify=y)"
   ]
  },
  {
   "cell_type": "markdown",
   "id": "64fb52fa",
   "metadata": {},
   "source": [
    "Finally, we define our MLP model with the chosen architecture, and fit our data on it:"
   ]
  },
  {
   "cell_type": "code",
   "execution_count": 215,
   "id": "05bcf31d",
   "metadata": {},
   "outputs": [],
   "source": [
    "clf = MLPClassifier(random_state=1, max_iter=300, activation='relu', learning_rate='adaptive',\n",
    "                   hidden_layer_sizes=(15,10,6,3,3,6,10,15)).fit(X_train, y_train)"
   ]
  },
  {
   "cell_type": "markdown",
   "id": "95eebbb4",
   "metadata": {},
   "source": [
    "We output the accuracy score."
   ]
  },
  {
   "cell_type": "code",
   "execution_count": 216,
   "id": "ee522603",
   "metadata": {},
   "outputs": [
    {
     "data": {
      "text/plain": [
       "0.7091974752028855"
      ]
     },
     "execution_count": 216,
     "metadata": {},
     "output_type": "execute_result"
    }
   ],
   "source": [
    "clf.score(X_test, y_test)"
   ]
  },
  {
   "cell_type": "markdown",
   "id": "07a9ef09",
   "metadata": {},
   "source": [
    "This falls short off our expectations for using it as a general model. At this level of performance, we would not be justified in considering a NN approach (either RNN or simple MLP) as opposed to the more basic vectorized logistic regression. However, this can be explained by considering what happens at each input of new word thresholds from songs. It is likely that performance will keep increasing with data at an exponential rate once the NN achieves its learning balance.\n",
    "\n",
    "To test this hypothesis, we will perform a self-built grid search which re-initializes the entire procedure with a free choice of hyperparameters. We will pay particular consideration to how different activation functions perform on the given task.\n",
    "\n",
    "Let's deploy some empty lists/arrays where we will store our findings:"
   ]
  },
  {
   "cell_type": "code",
   "execution_count": 217,
   "id": "462da73a",
   "metadata": {},
   "outputs": [],
   "source": [
    "relu=[]\n",
    "tan=[]\n",
    "logi=[]"
   ]
  },
  {
   "cell_type": "markdown",
   "id": "37f6a64c",
   "metadata": {},
   "source": [
    "We now define the gridsearch accordingly:"
   ]
  },
  {
   "cell_type": "code",
   "execution_count": 218,
   "id": "8b3895e2",
   "metadata": {},
   "outputs": [],
   "source": [
    "def GridSearchNN(threshold, activ='relu', max_iter=200, hid=(15,10,6,3,3,6,10,15)):\n",
    "    ''' We initialize the data just like before, the only change being the threshold that can now be pre-set '''\n",
    "    \n",
    "    ## Get and combine the data\n",
    "    X = seq\n",
    "    y = genre\n",
    "    X_good = X[X.str.len()>threshold]\n",
    "    idx = X_good.index\n",
    "    y = y[y.index.isin(idx)].copy()\n",
    "\n",
    "    X_good = X_good.reset_index(drop=True)\n",
    "    y = y.reset_index(drop=True)\n",
    "    \n",
    "    ## Perform the datapoints binding \n",
    "    for i in range(threshold):\n",
    "        globals()['X_good_{}'.format(i)] = [X_good[j][i] for j in range(len(X_good))]\n",
    "    for i in range(threshold):\n",
    "        globals()['X_good_{}'.format(i)] = pd.Series(globals()['X_good_{}'.format(i)])\n",
    "    \n",
    "    ## Combine the resulting columns in a format accepted by the model\n",
    "    X_final = pd.concat([globals()['X_good_{}'.format(i)] for i in range(threshold)], axis=1)\n",
    "    X_train, X_test, y_train, y_test = train_test_split(X_final, y, test_size = 0.2, random_state = 124, stratify=y)\n",
    "    \n",
    "    ## Perform prediction\n",
    "    clf = MLPClassifier(random_state=1, max_iter=max_iter, activation=activ, hidden_layer_sizes=hid).fit(X_train, y_train)\n",
    "    score = round(clf.score(X_test, y_test)*100, 4)\n",
    "    print(f\"For threshold: {threshold} ~~~~~ Activation: {activ} ~~~~~~~\\\n",
    "    Iterations: {max_iter} ~~~~~~~ Score: {score}\")\n",
    "    \n",
    "    ## Append the resulting accuracy scores for each \n",
    "    ## activation function to their respective list\n",
    "    if(activ=='relu'):\n",
    "        relu.append(score)\n",
    "    elif(activ=='logistic'):\n",
    "        logi.append(score)\n",
    "    else:\n",
    "        tan.append(score)"
   ]
  },
  {
   "cell_type": "markdown",
   "id": "d0d49002",
   "metadata": {},
   "source": [
    "All that's left now is to apply the GridSearch on several parameters of our choice. Most importantly, we will test the NN across various thresholds, i.e. words per song. The expected result is that it will initially have _some_ performance, that will keep dropping as it gets to see more words which add unprecedented variety - and this trend might continue until the learning rate will be able to catch up to it; i.e. when words start repeating sufficiently for the NN to pick it up as signal.\n",
    "\n",
    "We will of course also monitor performance across our 3 main activation functions. Off-record, a large number of other properties were tested as well, including maximum iterations permitted, learning rate, architecture as well as randomness. Neither of these exhibited particular propensities one way or the other for us to delve deeper into. Therefore, we will run a slightly less complicated grid-search this time:"
   ]
  },
  {
   "cell_type": "code",
   "execution_count": 219,
   "id": "4c62020c",
   "metadata": {},
   "outputs": [
    {
     "name": "stdout",
     "output_type": "stream",
     "text": [
      "For threshold: 1 ~~~~~ Activation: logistic ~~~~~~~    Iterations: 200 ~~~~~~~ Score: 58.0621\n",
      "For threshold: 1 ~~~~~ Activation: relu ~~~~~~~    Iterations: 200 ~~~~~~~ Score: 58.3517\n",
      "For threshold: 1 ~~~~~ Activation: tanh ~~~~~~~    Iterations: 200 ~~~~~~~ Score: 58.0621\n",
      "For threshold: 5 ~~~~~ Activation: logistic ~~~~~~~    Iterations: 200 ~~~~~~~ Score: 58.0334\n",
      "For threshold: 5 ~~~~~ Activation: relu ~~~~~~~    Iterations: 200 ~~~~~~~ Score: 58.0334\n",
      "For threshold: 5 ~~~~~ Activation: tanh ~~~~~~~    Iterations: 200 ~~~~~~~ Score: 58.0334\n",
      "For threshold: 10 ~~~~~ Activation: logistic ~~~~~~~    Iterations: 200 ~~~~~~~ Score: 58.0167\n",
      "For threshold: 10 ~~~~~ Activation: relu ~~~~~~~    Iterations: 200 ~~~~~~~ Score: 58.023\n",
      "For threshold: 10 ~~~~~ Activation: tanh ~~~~~~~    Iterations: 200 ~~~~~~~ Score: 58.0167\n",
      "For threshold: 20 ~~~~~ Activation: logistic ~~~~~~~    Iterations: 200 ~~~~~~~ Score: 57.8834\n",
      "For threshold: 20 ~~~~~ Activation: relu ~~~~~~~    Iterations: 200 ~~~~~~~ Score: 57.8834\n",
      "For threshold: 20 ~~~~~ Activation: tanh ~~~~~~~    Iterations: 200 ~~~~~~~ Score: 57.8834\n",
      "For threshold: 30 ~~~~~ Activation: logistic ~~~~~~~    Iterations: 200 ~~~~~~~ Score: 57.5953\n",
      "For threshold: 30 ~~~~~ Activation: relu ~~~~~~~    Iterations: 200 ~~~~~~~ Score: 57.6534\n",
      "For threshold: 30 ~~~~~ Activation: tanh ~~~~~~~    Iterations: 200 ~~~~~~~ Score: 57.5953\n",
      "For threshold: 40 ~~~~~ Activation: logistic ~~~~~~~    Iterations: 200 ~~~~~~~ Score: 56.9336\n",
      "For threshold: 40 ~~~~~ Activation: relu ~~~~~~~    Iterations: 200 ~~~~~~~ Score: 56.9932\n",
      "For threshold: 40 ~~~~~ Activation: tanh ~~~~~~~    Iterations: 200 ~~~~~~~ Score: 56.9336\n",
      "For threshold: 50 ~~~~~ Activation: logistic ~~~~~~~    Iterations: 200 ~~~~~~~ Score: 55.7714\n",
      "For threshold: 50 ~~~~~ Activation: relu ~~~~~~~    Iterations: 200 ~~~~~~~ Score: 55.7783\n",
      "For threshold: 50 ~~~~~ Activation: tanh ~~~~~~~    Iterations: 200 ~~~~~~~ Score: 55.7714\n",
      "For threshold: 60 ~~~~~ Activation: logistic ~~~~~~~    Iterations: 200 ~~~~~~~ Score: 54.0133\n",
      "For threshold: 60 ~~~~~ Activation: relu ~~~~~~~    Iterations: 200 ~~~~~~~ Score: 54.0133\n",
      "For threshold: 60 ~~~~~ Activation: tanh ~~~~~~~    Iterations: 200 ~~~~~~~ Score: 54.0133\n",
      "For threshold: 70 ~~~~~ Activation: logistic ~~~~~~~    Iterations: 200 ~~~~~~~ Score: 51.6851\n",
      "For threshold: 70 ~~~~~ Activation: relu ~~~~~~~    Iterations: 200 ~~~~~~~ Score: 51.7179\n",
      "For threshold: 70 ~~~~~ Activation: tanh ~~~~~~~    Iterations: 200 ~~~~~~~ Score: 51.6851\n",
      "For threshold: 80 ~~~~~ Activation: logistic ~~~~~~~    Iterations: 200 ~~~~~~~ Score: 48.9644\n",
      "For threshold: 80 ~~~~~ Activation: relu ~~~~~~~    Iterations: 200 ~~~~~~~ Score: 48.9644\n",
      "For threshold: 80 ~~~~~ Activation: tanh ~~~~~~~    Iterations: 200 ~~~~~~~ Score: 48.9644\n",
      "For threshold: 90 ~~~~~ Activation: logistic ~~~~~~~    Iterations: 200 ~~~~~~~ Score: 45.7942\n",
      "For threshold: 90 ~~~~~ Activation: relu ~~~~~~~    Iterations: 200 ~~~~~~~ Score: 47.6936\n",
      "For threshold: 90 ~~~~~ Activation: tanh ~~~~~~~    Iterations: 200 ~~~~~~~ Score: 45.7942\n",
      "For threshold: 100 ~~~~~ Activation: logistic ~~~~~~~    Iterations: 200 ~~~~~~~ Score: 41.9401\n",
      "For threshold: 100 ~~~~~ Activation: relu ~~~~~~~    Iterations: 200 ~~~~~~~ Score: 41.9642\n",
      "For threshold: 100 ~~~~~ Activation: tanh ~~~~~~~    Iterations: 200 ~~~~~~~ Score: 42.0844\n",
      "For threshold: 110 ~~~~~ Activation: logistic ~~~~~~~    Iterations: 200 ~~~~~~~ Score: 37.8699\n",
      "For threshold: 110 ~~~~~ Activation: relu ~~~~~~~    Iterations: 200 ~~~~~~~ Score: 46.3289\n",
      "For threshold: 110 ~~~~~ Activation: tanh ~~~~~~~    Iterations: 200 ~~~~~~~ Score: 37.9676\n",
      "For threshold: 120 ~~~~~ Activation: logistic ~~~~~~~    Iterations: 200 ~~~~~~~ Score: 34.1527\n",
      "For threshold: 120 ~~~~~ Activation: relu ~~~~~~~    Iterations: 200 ~~~~~~~ Score: 34.1527\n",
      "For threshold: 120 ~~~~~ Activation: tanh ~~~~~~~    Iterations: 200 ~~~~~~~ Score: 37.7177\n",
      "For threshold: 130 ~~~~~ Activation: logistic ~~~~~~~    Iterations: 200 ~~~~~~~ Score: 38.8678\n",
      "For threshold: 130 ~~~~~ Activation: relu ~~~~~~~    Iterations: 200 ~~~~~~~ Score: 49.734\n",
      "For threshold: 130 ~~~~~ Activation: tanh ~~~~~~~    Iterations: 200 ~~~~~~~ Score: 41.3944\n",
      "For threshold: 140 ~~~~~ Activation: logistic ~~~~~~~    Iterations: 200 ~~~~~~~ Score: 43.9019\n",
      "For threshold: 140 ~~~~~ Activation: relu ~~~~~~~    Iterations: 200 ~~~~~~~ Score: 50.5745\n",
      "For threshold: 140 ~~~~~ Activation: tanh ~~~~~~~    Iterations: 200 ~~~~~~~ Score: 43.7251\n",
      "For threshold: 150 ~~~~~ Activation: logistic ~~~~~~~    Iterations: 200 ~~~~~~~ Score: 48.9216\n",
      "For threshold: 150 ~~~~~ Activation: relu ~~~~~~~    Iterations: 200 ~~~~~~~ Score: 48.9216\n",
      "For threshold: 150 ~~~~~ Activation: tanh ~~~~~~~    Iterations: 200 ~~~~~~~ Score: 48.744\n",
      "For threshold: 170 ~~~~~ Activation: logistic ~~~~~~~    Iterations: 200 ~~~~~~~ Score: 58.7639\n",
      "For threshold: 170 ~~~~~ Activation: relu ~~~~~~~    Iterations: 200 ~~~~~~~ Score: 60.5952\n",
      "For threshold: 170 ~~~~~ Activation: tanh ~~~~~~~    Iterations: 200 ~~~~~~~ Score: 58.7639\n",
      "For threshold: 180 ~~~~~ Activation: logistic ~~~~~~~    Iterations: 200 ~~~~~~~ Score: 63.5424\n",
      "For threshold: 180 ~~~~~ Activation: relu ~~~~~~~    Iterations: 200 ~~~~~~~ Score: 64.5756\n",
      "For threshold: 180 ~~~~~ Activation: tanh ~~~~~~~    Iterations: 200 ~~~~~~~ Score: 63.5424\n",
      "For threshold: 190 ~~~~~ Activation: logistic ~~~~~~~    Iterations: 200 ~~~~~~~ Score: 67.5133\n",
      "For threshold: 190 ~~~~~ Activation: relu ~~~~~~~    Iterations: 200 ~~~~~~~ Score: 67.3494\n",
      "For threshold: 190 ~~~~~ Activation: tanh ~~~~~~~    Iterations: 200 ~~~~~~~ Score: 67.5133\n",
      "For threshold: 200 ~~~~~ Activation: logistic ~~~~~~~    Iterations: 200 ~~~~~~~ Score: 70.9197\n",
      "For threshold: 200 ~~~~~ Activation: relu ~~~~~~~    Iterations: 200 ~~~~~~~ Score: 70.9197\n",
      "For threshold: 200 ~~~~~ Activation: tanh ~~~~~~~    Iterations: 200 ~~~~~~~ Score: 70.9197\n",
      "For threshold: 210 ~~~~~ Activation: logistic ~~~~~~~    Iterations: 200 ~~~~~~~ Score: 74.4522\n",
      "For threshold: 210 ~~~~~ Activation: relu ~~~~~~~    Iterations: 200 ~~~~~~~ Score: 74.4522\n",
      "For threshold: 210 ~~~~~ Activation: tanh ~~~~~~~    Iterations: 200 ~~~~~~~ Score: 74.3526\n",
      "For threshold: 220 ~~~~~ Activation: logistic ~~~~~~~    Iterations: 200 ~~~~~~~ Score: 77.3224\n",
      "For threshold: 220 ~~~~~ Activation: relu ~~~~~~~    Iterations: 200 ~~~~~~~ Score: 77.3224\n",
      "For threshold: 220 ~~~~~ Activation: tanh ~~~~~~~    Iterations: 200 ~~~~~~~ Score: 77.3224\n",
      "For threshold: 230 ~~~~~ Activation: logistic ~~~~~~~    Iterations: 200 ~~~~~~~ Score: 79.8913\n",
      "For threshold: 230 ~~~~~ Activation: relu ~~~~~~~    Iterations: 200 ~~~~~~~ Score: 79.8913\n",
      "For threshold: 230 ~~~~~ Activation: tanh ~~~~~~~    Iterations: 200 ~~~~~~~ Score: 79.8913\n",
      "For threshold: 240 ~~~~~ Activation: logistic ~~~~~~~    Iterations: 200 ~~~~~~~ Score: 81.7757\n",
      "For threshold: 240 ~~~~~ Activation: relu ~~~~~~~    Iterations: 200 ~~~~~~~ Score: 81.7757\n",
      "For threshold: 240 ~~~~~ Activation: tanh ~~~~~~~    Iterations: 200 ~~~~~~~ Score: 81.7757\n",
      "For threshold: 250 ~~~~~ Activation: logistic ~~~~~~~    Iterations: 200 ~~~~~~~ Score: 83.5424\n",
      "For threshold: 250 ~~~~~ Activation: relu ~~~~~~~    Iterations: 200 ~~~~~~~ Score: 81.9926\n",
      "For threshold: 250 ~~~~~ Activation: tanh ~~~~~~~    Iterations: 200 ~~~~~~~ Score: 83.0996\n",
      "For threshold: 260 ~~~~~ Activation: logistic ~~~~~~~    Iterations: 200 ~~~~~~~ Score: 85.1608\n",
      "For threshold: 260 ~~~~~ Activation: relu ~~~~~~~    Iterations: 200 ~~~~~~~ Score: 85.1608\n",
      "For threshold: 260 ~~~~~ Activation: tanh ~~~~~~~    Iterations: 200 ~~~~~~~ Score: 85.1608\n",
      "For threshold: 270 ~~~~~ Activation: logistic ~~~~~~~    Iterations: 200 ~~~~~~~ Score: 86.484\n",
      "For threshold: 270 ~~~~~ Activation: relu ~~~~~~~    Iterations: 200 ~~~~~~~ Score: 86.484\n",
      "For threshold: 270 ~~~~~ Activation: tanh ~~~~~~~    Iterations: 200 ~~~~~~~ Score: 86.484\n",
      "For threshold: 280 ~~~~~ Activation: logistic ~~~~~~~    Iterations: 200 ~~~~~~~ Score: 87.6656\n",
      "For threshold: 280 ~~~~~ Activation: relu ~~~~~~~    Iterations: 200 ~~~~~~~ Score: 87.6656\n",
      "For threshold: 280 ~~~~~ Activation: tanh ~~~~~~~    Iterations: 200 ~~~~~~~ Score: 87.6656\n",
      "For threshold: 290 ~~~~~ Activation: logistic ~~~~~~~    Iterations: 200 ~~~~~~~ Score: 88.4835\n",
      "For threshold: 290 ~~~~~ Activation: relu ~~~~~~~    Iterations: 200 ~~~~~~~ Score: 88.1414\n"
     ]
    },
    {
     "name": "stdout",
     "output_type": "stream",
     "text": [
      "For threshold: 290 ~~~~~ Activation: tanh ~~~~~~~    Iterations: 200 ~~~~~~~ Score: 88.4835\n",
      "For threshold: 300 ~~~~~ Activation: logistic ~~~~~~~    Iterations: 200 ~~~~~~~ Score: 89.3671\n",
      "For threshold: 300 ~~~~~ Activation: relu ~~~~~~~    Iterations: 200 ~~~~~~~ Score: 89.3671\n",
      "For threshold: 300 ~~~~~ Activation: tanh ~~~~~~~    Iterations: 200 ~~~~~~~ Score: 89.3671\n",
      "For threshold: 310 ~~~~~ Activation: logistic ~~~~~~~    Iterations: 200 ~~~~~~~ Score: 90.1146\n",
      "For threshold: 310 ~~~~~ Activation: relu ~~~~~~~    Iterations: 200 ~~~~~~~ Score: 90.1146\n",
      "For threshold: 310 ~~~~~ Activation: tanh ~~~~~~~    Iterations: 200 ~~~~~~~ Score: 90.1146\n",
      "For threshold: 320 ~~~~~ Activation: logistic ~~~~~~~    Iterations: 200 ~~~~~~~ Score: 90.0958\n",
      "For threshold: 320 ~~~~~ Activation: relu ~~~~~~~    Iterations: 200 ~~~~~~~ Score: 90.0958\n",
      "For threshold: 320 ~~~~~ Activation: tanh ~~~~~~~    Iterations: 200 ~~~~~~~ Score: 90.0958\n",
      "For threshold: 330 ~~~~~ Activation: logistic ~~~~~~~    Iterations: 200 ~~~~~~~ Score: 90.4676\n",
      "For threshold: 330 ~~~~~ Activation: relu ~~~~~~~    Iterations: 200 ~~~~~~~ Score: 90.4676\n",
      "For threshold: 330 ~~~~~ Activation: tanh ~~~~~~~    Iterations: 200 ~~~~~~~ Score: 90.4676\n",
      "For threshold: 340 ~~~~~ Activation: logistic ~~~~~~~    Iterations: 200 ~~~~~~~ Score: 90.9836\n",
      "For threshold: 340 ~~~~~ Activation: relu ~~~~~~~    Iterations: 200 ~~~~~~~ Score: 90.9836\n",
      "For threshold: 340 ~~~~~ Activation: tanh ~~~~~~~    Iterations: 200 ~~~~~~~ Score: 90.9836\n",
      "For threshold: 350 ~~~~~ Activation: logistic ~~~~~~~    Iterations: 200 ~~~~~~~ Score: 91.8415\n",
      "For threshold: 350 ~~~~~ Activation: relu ~~~~~~~    Iterations: 200 ~~~~~~~ Score: 91.8415\n",
      "For threshold: 350 ~~~~~ Activation: tanh ~~~~~~~    Iterations: 200 ~~~~~~~ Score: 91.8415\n",
      "For threshold: 360 ~~~~~ Activation: logistic ~~~~~~~    Iterations: 200 ~~~~~~~ Score: 91.9355\n",
      "For threshold: 360 ~~~~~ Activation: relu ~~~~~~~    Iterations: 200 ~~~~~~~ Score: 91.129\n",
      "For threshold: 360 ~~~~~ Activation: tanh ~~~~~~~    Iterations: 200 ~~~~~~~ Score: 91.9355\n",
      "For threshold: 370 ~~~~~ Activation: logistic ~~~~~~~    Iterations: 200 ~~~~~~~ Score: 92.1212\n",
      "For threshold: 370 ~~~~~ Activation: relu ~~~~~~~    Iterations: 200 ~~~~~~~ Score: 91.8182\n",
      "For threshold: 370 ~~~~~ Activation: tanh ~~~~~~~    Iterations: 200 ~~~~~~~ Score: 90.9091\n",
      "For threshold: 380 ~~~~~ Activation: logistic ~~~~~~~    Iterations: 200 ~~~~~~~ Score: 92.8826\n",
      "For threshold: 380 ~~~~~ Activation: relu ~~~~~~~    Iterations: 200 ~~~~~~~ Score: 92.8826\n",
      "For threshold: 380 ~~~~~ Activation: tanh ~~~~~~~    Iterations: 200 ~~~~~~~ Score: 92.8826\n",
      "For threshold: 390 ~~~~~ Activation: logistic ~~~~~~~    Iterations: 200 ~~~~~~~ Score: 92.2449\n",
      "For threshold: 390 ~~~~~ Activation: relu ~~~~~~~    Iterations: 200 ~~~~~~~ Score: 92.2449\n"
     ]
    },
    {
     "name": "stderr",
     "output_type": "stream",
     "text": [
      "D:\\AnacondaIsHere\\lib\\site-packages\\sklearn\\neural_network\\_multilayer_perceptron.py:614: ConvergenceWarning: Stochastic Optimizer: Maximum iterations (200) reached and the optimization hasn't converged yet.\n",
      "  warnings.warn(\n"
     ]
    },
    {
     "name": "stdout",
     "output_type": "stream",
     "text": [
      "For threshold: 390 ~~~~~ Activation: tanh ~~~~~~~    Iterations: 200 ~~~~~~~ Score: 92.6531\n",
      "For threshold: 400 ~~~~~ Activation: logistic ~~~~~~~    Iterations: 200 ~~~~~~~ Score: 92.5581\n",
      "For threshold: 400 ~~~~~ Activation: relu ~~~~~~~    Iterations: 200 ~~~~~~~ Score: 92.5581\n",
      "For threshold: 400 ~~~~~ Activation: tanh ~~~~~~~    Iterations: 200 ~~~~~~~ Score: 92.5581\n"
     ]
    }
   ],
   "source": [
    "thresh = [1,5,10,20,30,40,50,60,70,80,90,100,110,120,130,140,150,170,180,190,200,210,220,230,240,250,260,270,280,290,300,\n",
    "         310,320,330,340,350,360,370,380,390,400] ## Set threshold markers\n",
    "activ = ['logistic', 'relu', 'tanh'] ## Set activation function markers\n",
    "for item in thresh:\n",
    "    for act in activ:\n",
    "        GridSearchNN(item, activ=act, max_iter=200) ## Perform the search iteratively and output findings"
   ]
  },
  {
   "cell_type": "markdown",
   "id": "e8357990",
   "metadata": {},
   "source": [
    "We will perform a quick test that our results have been transcribed accordingly:"
   ]
  },
  {
   "cell_type": "code",
   "execution_count": 220,
   "id": "3bf0acb3",
   "metadata": {},
   "outputs": [
    {
     "data": {
      "text/plain": [
       "True"
      ]
     },
     "execution_count": 220,
     "metadata": {},
     "output_type": "execute_result"
    }
   ],
   "source": [
    "## Should evaluate to True\n",
    "len(relu)==len(tan)==len(logi)==len(thresh)"
   ]
  },
  {
   "cell_type": "markdown",
   "id": "eba206cf",
   "metadata": {},
   "source": [
    "We'll bind our results into a single dataframe so it can be plotted accordingly:"
   ]
  },
  {
   "cell_type": "code",
   "execution_count": 221,
   "id": "fc827e8c",
   "metadata": {},
   "outputs": [],
   "source": [
    "df = pd.concat([pd.Series(thresh), pd.Series(logi), pd.Series(tan), pd.Series(relu)], axis=1)\n",
    "df.columns = ['X', 'Logit', 'Tan', 'Relu']"
   ]
  },
  {
   "cell_type": "code",
   "execution_count": 223,
   "id": "c6f84e19",
   "metadata": {},
   "outputs": [
    {
     "data": {
      "image/png": "[encoded data removed]",
      "text/plain": [
       "<Figure size 648x504 with 1 Axes>"
      ]
     },
     "metadata": {
      "needs_background": "light"
     },
     "output_type": "display_data"
    }
   ],
   "source": [
    "fig=plt.figure(figsize=(9,7))\n",
    "ax=fig.add_subplot(111)\n",
    " \n",
    "\n",
    "ax.plot(df.X,df.Tan,c='#93c47d',ls='--',label='Tan',linewidth=2.0)\n",
    "ax.plot(df.X,df.Relu,c='#ea9999', ls=':',label='Relu',linewidth=3.0)\n",
    "ax.plot(df.X, df.Logit, c = '#d9ead3',ls='-.',label='Logit',linewidth=2.0, alpha = 0.6)\n",
    "\n",
    "ax.set_xlabel('Threshold (Number of words)')\n",
    "ax.set_ylabel('Accuracy in %')\n",
    "plt.show()"
   ]
  },
  {
   "cell_type": "markdown",
   "id": "78b79673",
   "metadata": {},
   "source": [
    "As expected, we encounter the aforementioned behaviour. The continuous drop is due to the new words from each song leading to a rapid dictionary expansion for which the network cannot account via its learning. Once the (dynamic) dictionary expansion slows down, based on the size of the static dictionary (i.e. the total pool of tokenized words available in our data), the NN begins to transform noise into signal exceptionally well, to the point of overfitting shortly after.\n",
    "\n",
    "Therefore, we may deduce that there is a \"desirable range\", mostly 200-400, where our network performs at its best. We can build a strategy using an ensemble of our methods based on these findings in order to predict genres with as much accuracy as possible. You can find out more [here](https://www.mathcha.io/editor/4Qmgou4GfLpHld1wQoSWg9vYIGXngyxSlBw1GL) regarding the mathematical implications of the network's progress throughout the threshold markers.\n",
    "\n",
    "Lastly, we may be interested in testing some extreme cases. The following solver paired with an adaptive learning rate is extremely thorough, which may initially led us to believe that it could potentially outperform our previous findings. However, we are to find out that it never truly converges, despite allowing a ridiculous amount of iterations to loop."
   ]
  },
  {
   "cell_type": "code",
   "execution_count": null,
   "id": "8475a542",
   "metadata": {},
   "outputs": [],
   "source": [
    "## NOTE: Running locally ill-advised due to exceptional runtime.\n",
    "\n",
    "# clf_long = MLPClassifier(random_state=1, max_iter=10**4, activation='logistic',\\\n",
    "#                        solver='lbfgs', learning_rate='adaptive').fit(X_train, y_train)\n",
    "\n",
    "# clf_long.score(X_test, y_test)"
   ]
  },
  {
   "cell_type": "markdown",
   "id": "631c557a",
   "metadata": {},
   "source": [
    "The score obtained was nothing better than our previous findings. We recorded an accuracy of slightly below 71% on the chosen example.\n",
    "\n",
    "What happens if we let the same algorithm run for an extremely short amount, ignoring its need to converge?"
   ]
  },
  {
   "cell_type": "code",
   "execution_count": 224,
   "id": "df1b0be9",
   "metadata": {},
   "outputs": [
    {
     "name": "stderr",
     "output_type": "stream",
     "text": [
      "D:\\AnacondaIsHere\\lib\\site-packages\\sklearn\\neural_network\\_multilayer_perceptron.py:500: ConvergenceWarning: lbfgs failed to converge (status=1):\n",
      "STOP: TOTAL NO. of ITERATIONS REACHED LIMIT.\n",
      "\n",
      "Increase the number of iterations (max_iter) or scale the data as shown in:\n",
      "    https://scikit-learn.org/stable/modules/preprocessing.html\n",
      "  self.n_iter_ = _check_optimize_result(\"lbfgs\", opt_res, self.max_iter)\n"
     ]
    },
    {
     "data": {
      "text/plain": [
       "0.7069431920649234"
      ]
     },
     "execution_count": 224,
     "metadata": {},
     "output_type": "execute_result"
    }
   ],
   "source": [
    "clf_short = MLPClassifier(random_state=1, max_iter=50, activation='logistic',\\\n",
    "                       solver='lbfgs', learning_rate='adaptive').fit(X_train, y_train)\n",
    "clf_short.score(X_test, y_test)"
   ]
  },
  {
   "cell_type": "markdown",
   "id": "3d2b1e49",
   "metadata": {},
   "source": [
    "Surprisingly, we lost very little accuracy as opposed to our previous algorithm. Indeed, it seems like the minimal performance gain does not justify running such a tedious algorithm, so it's best we retain our previous findings using the gridsearch.\n",
    "\n",
    "We will now run the algorithm one last time, just to get a full picture of the optimal parameters for selection:"
   ]
  },
  {
   "cell_type": "code",
   "execution_count": 225,
   "id": "183a7c67",
   "metadata": {},
   "outputs": [],
   "source": [
    "clf_layer = MLPClassifier(random_state=1, max_iter=200, activation='logistic',hidden_layer_sizes = (15,10,6,3,3,6,10,15),\n",
    "                       solver='adam', learning_rate='invscaling').fit(X_train, y_train)"
   ]
  },
  {
   "cell_type": "markdown",
   "id": "308ae392",
   "metadata": {},
   "source": [
    "The parameters are:"
   ]
  },
  {
   "cell_type": "code",
   "execution_count": 226,
   "id": "0227f69a",
   "metadata": {},
   "outputs": [
    {
     "data": {
      "text/plain": [
       "{'activation': 'logistic',\n",
       " 'alpha': 0.0001,\n",
       " 'batch_size': 'auto',\n",
       " 'beta_1': 0.9,\n",
       " 'beta_2': 0.999,\n",
       " 'early_stopping': False,\n",
       " 'epsilon': 1e-08,\n",
       " 'hidden_layer_sizes': (15, 10, 6, 3, 3, 6, 10, 15),\n",
       " 'learning_rate': 'invscaling',\n",
       " 'learning_rate_init': 0.001,\n",
       " 'max_fun': 15000,\n",
       " 'max_iter': 200,\n",
       " 'momentum': 0.9,\n",
       " 'n_iter_no_change': 10,\n",
       " 'nesterovs_momentum': True,\n",
       " 'power_t': 0.5,\n",
       " 'random_state': 1,\n",
       " 'shuffle': True,\n",
       " 'solver': 'adam',\n",
       " 'tol': 0.0001,\n",
       " 'validation_fraction': 0.1,\n",
       " 'verbose': False,\n",
       " 'warm_start': False}"
      ]
     },
     "execution_count": 226,
     "metadata": {},
     "output_type": "execute_result"
    }
   ],
   "source": [
    "clf_layer.get_params()"
   ]
  },
  {
   "cell_type": "markdown",
   "id": "421ed00b",
   "metadata": {},
   "source": [
    "We conclude this section with a summary of the (practical) MLP behaviour recorded on our best estimators. These findings finalize our project, as we are ready to develop a product based on an ensemble of the methods & models explored."
   ]
  },
  {
   "cell_type": "markdown",
   "id": "c015bfe2",
   "metadata": {},
   "source": [
    "**MLP behaviour:** \n",
    "\n",
    "    - Underfits up until ~20 threshold. Expected accuracy 55-58% acc.\n",
    "\n",
    "    - Performance drop until ~ 140 threshold. Drop up to 38-40% acc.\n",
    "    \n",
    "    - Performance steady increase until ~200 threshold. Expected accuracy of 75%. Becomes the **relevant algorithm**.\n",
    "    \n",
    "    - Performance spike until 250-260 threshold. Begins overfitting ~ 260 threshold. Acc keeps increasing, slowly.\n",
    "    \n",
    "    - Reach ~90% acc for threshold 300.\n",
    "    \n",
    "    - Despite overfit, accuracy also increases until 380-390 threshold up to ~92%, from which point it starts decreasing.\n",
    "    \n",
    "    - Reach global recorded minimum (on a steady decrease) of ~ 88% acc at threshold 500."
   ]
  },
  {
   "cell_type": "markdown",
   "id": "3e0759ca",
   "metadata": {},
   "source": [
    "**References**   ~ * denotes personal work bearing author rights\n",
    "\n",
    "\n",
    "[1. RNN pre-processing](https://www.tensorflow.org/api_docs/python/tf/keras/preprocessing/text/Tokenizer)\n",
    "\n",
    "\n",
    "[2. RNN implementation on NL](https://towardsdatascience.com/recurrent-neural-networks-by-example-in-python-ffd204f99470)\n",
    "\n",
    "\n",
    "[3. CNN implementation](https://towardsdatascience.com/feed-forward-neural-networks-how-to-successfully-build-them-in-python-74503409d99a)\n",
    "\n",
    "\n",
    "[4. MLP - NN with sklearn](https://scikit-learn.org/stable/modules/generated/sklearn.neural_network.MLPClassifier.html)\n",
    "\n",
    "\n",
    "[5. How to interpret NN performance relative to data - a short mathematical guide](https://www.mathcha.io/editor/4Qmgou4GfLpHld1wQoSWg9vYIGXngyxSlBw1GL) *"
   ]
  }
 ],
 "metadata": {
  "kernelspec": {
   "display_name": "Python 3",
   "language": "python",
   "name": "python3"
  },
  "language_info": {
   "codemirror_mode": {
    "name": "ipython",
    "version": 3
   },
   "file_extension": ".py",
   "mimetype": "text/x-python",
   "name": "python",
   "nbconvert_exporter": "python",
   "pygments_lexer": "ipython3",
   "version": "3.8.8"
  }
 },
 "nbformat": 4,
 "nbformat_minor": 5
}
