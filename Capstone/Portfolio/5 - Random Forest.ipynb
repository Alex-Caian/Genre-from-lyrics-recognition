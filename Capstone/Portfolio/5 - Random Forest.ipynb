{
 "cells": [
  {
   "cell_type": "code",
   "execution_count": 1,
   "id": "95e4850e-3911-42e3-b973-1f8d8770b36e",
   "metadata": {},
   "outputs": [],
   "source": [
    "# Data Manipulation\n",
    "#-----------------------------\n",
    "import pandas as pd\n",
    "\n",
    "# Sci-kit learn packages\n",
    "#-----------------------------\n",
    "# Preprocessing\n",
    "from sklearn.feature_extraction.text import CountVectorizer\n",
    "from sklearn.model_selection import train_test_split, GridSearchCV\n",
    "\n",
    "# Modelling\n",
    "from sklearn.ensemble import RandomForestClassifier\n",
    "\n",
    "# Metrics\n",
    "from sklearn.metrics import confusion_matrix, accuracy_score, recall_score, f1_score, precision_score\n",
    "\n",
    "\n",
    "# Other packages\n",
    "#-----------------------------\n",
    "import pickle\n"
   ]
  },
  {
   "cell_type": "markdown",
   "id": "d2337739-e441-4cb1-80c5-2e02805bfb22",
   "metadata": {
    "tags": []
   },
   "source": [
    "# Import the dataframe"
   ]
  },
  {
   "cell_type": "code",
   "execution_count": 5,
   "id": "d4c73cd9-6f19-4dd9-ae8f-590aa31c6b16",
   "metadata": {},
   "outputs": [
    {
     "data": {
      "text/html": [
       "<div>\n",
       "<style scoped>\n",
       "    .dataframe tbody tr th:only-of-type {\n",
       "        vertical-align: middle;\n",
       "    }\n",
       "\n",
       "    .dataframe tbody tr th {\n",
       "        vertical-align: top;\n",
       "    }\n",
       "\n",
       "    .dataframe thead th {\n",
       "        text-align: right;\n",
       "    }\n",
       "</style>\n",
       "<table border=\"1\" class=\"dataframe\">\n",
       "  <thead>\n",
       "    <tr style=\"text-align: right;\">\n",
       "      <th></th>\n",
       "      <th>SName</th>\n",
       "      <th>Lyric</th>\n",
       "      <th>Artist</th>\n",
       "      <th>Genre</th>\n",
       "      <th>multiple_letter</th>\n",
       "      <th>Trails</th>\n",
       "      <th>lyrics_clean</th>\n",
       "      <th>Rock</th>\n",
       "      <th>Pop</th>\n",
       "      <th>Hip_hop</th>\n",
       "    </tr>\n",
       "  </thead>\n",
       "  <tbody>\n",
       "    <tr>\n",
       "      <th>0</th>\n",
       "      <td>World So Cold</td>\n",
       "      <td>It starts with pain, followed by hate. Fueled ...</td>\n",
       "      <td>12 Stones</td>\n",
       "      <td>0</td>\n",
       "      <td>0.000000</td>\n",
       "      <td>0</td>\n",
       "      <td>start pain follow hate fuel endless question o...</td>\n",
       "      <td>1</td>\n",
       "      <td>0</td>\n",
       "      <td>1</td>\n",
       "    </tr>\n",
       "    <tr>\n",
       "      <th>1</th>\n",
       "      <td>Broken</td>\n",
       "      <td>Freedom!. Alone again again alone. Patiently w...</td>\n",
       "      <td>12 Stones</td>\n",
       "      <td>0</td>\n",
       "      <td>0.000000</td>\n",
       "      <td>0</td>\n",
       "      <td>freedom alon alon patient wait phone hope call...</td>\n",
       "      <td>1</td>\n",
       "      <td>1</td>\n",
       "      <td>0</td>\n",
       "    </tr>\n",
       "    <tr>\n",
       "      <th>2</th>\n",
       "      <td>3 Leaf Loser</td>\n",
       "      <td>Biting the hand that feeds you, lying to the v...</td>\n",
       "      <td>12 Stones</td>\n",
       "      <td>0</td>\n",
       "      <td>0.000000</td>\n",
       "      <td>0</td>\n",
       "      <td>bite hand feed lie voic insid reach beg someth...</td>\n",
       "      <td>1</td>\n",
       "      <td>1</td>\n",
       "      <td>0</td>\n",
       "    </tr>\n",
       "    <tr>\n",
       "      <th>3</th>\n",
       "      <td>Anthem For The Underdog</td>\n",
       "      <td>You say you know just who I am. But you can't ...</td>\n",
       "      <td>12 Stones</td>\n",
       "      <td>0</td>\n",
       "      <td>0.000000</td>\n",
       "      <td>2</td>\n",
       "      <td>say know imagin wait across line thought still...</td>\n",
       "      <td>1</td>\n",
       "      <td>0</td>\n",
       "      <td>0</td>\n",
       "    </tr>\n",
       "    <tr>\n",
       "      <th>4</th>\n",
       "      <td>Adrenaline</td>\n",
       "      <td>My heart is beating faster can't control these...</td>\n",
       "      <td>12 Stones</td>\n",
       "      <td>0</td>\n",
       "      <td>0.007042</td>\n",
       "      <td>0</td>\n",
       "      <td>heart beat faster control feel anymor wait lon...</td>\n",
       "      <td>0</td>\n",
       "      <td>0</td>\n",
       "      <td>0</td>\n",
       "    </tr>\n",
       "  </tbody>\n",
       "</table>\n",
       "</div>"
      ],
      "text/plain": [
       "                     SName                                              Lyric  \\\n",
       "0            World So Cold  It starts with pain, followed by hate. Fueled ...   \n",
       "1                   Broken  Freedom!. Alone again again alone. Patiently w...   \n",
       "2             3 Leaf Loser  Biting the hand that feeds you, lying to the v...   \n",
       "3  Anthem For The Underdog  You say you know just who I am. But you can't ...   \n",
       "4               Adrenaline  My heart is beating faster can't control these...   \n",
       "\n",
       "      Artist  Genre  multiple_letter  Trails  \\\n",
       "0  12 Stones      0         0.000000       0   \n",
       "1  12 Stones      0         0.000000       0   \n",
       "2  12 Stones      0         0.000000       0   \n",
       "3  12 Stones      0         0.000000       2   \n",
       "4  12 Stones      0         0.007042       0   \n",
       "\n",
       "                                        lyrics_clean  Rock  Pop  Hip_hop  \n",
       "0  start pain follow hate fuel endless question o...     1    0        1  \n",
       "1  freedom alon alon patient wait phone hope call...     1    1        0  \n",
       "2  bite hand feed lie voic insid reach beg someth...     1    1        0  \n",
       "3  say know imagin wait across line thought still...     1    0        0  \n",
       "4  heart beat faster control feel anymor wait lon...     0    0        0  "
      ]
     },
     "execution_count": 5,
     "metadata": {},
     "output_type": "execute_result"
    }
   ],
   "source": [
    "df_lyrics = pd.read_csv('./Dataset/clean_lyrics.csv', keep_default_na = False)\n",
    "df_lyrics.head()"
   ]
  },
  {
   "cell_type": "markdown",
   "id": "13ee5cb0-6a9f-4827-b73c-f2858f8088dc",
   "metadata": {},
   "source": [
    "# Prepping the data for modelling"
   ]
  },
  {
   "cell_type": "markdown",
   "id": "c957e8ff-6e73-4c00-b861-d4c2b4048791",
   "metadata": {},
   "source": [
    "## Word Vectorizer Instantiation"
   ]
  },
  {
   "cell_type": "code",
   "execution_count": 100,
   "id": "4661589d-ea6f-43e9-b491-e6e8363c1dd1",
   "metadata": {},
   "outputs": [],
   "source": [
    "vectorizer = CountVectorizer(analyzer = \"word\",\n",
    "                             tokenizer = None,\n",
    "                             preprocessor = None,\n",
    "                             stop_words = None,\n",
    "                             max_features = 1000)"
   ]
  },
  {
   "cell_type": "markdown",
   "id": "2368e23f-6f65-4f97-9ce1-31397ea615b4",
   "metadata": {},
   "source": [
    "## Function Declaration"
   ]
  },
  {
   "cell_type": "code",
   "execution_count": 101,
   "id": "73b11479-2a33-4374-b68a-a80b4099d7e1",
   "metadata": {
    "tags": []
   },
   "outputs": [],
   "source": [
    "def Enriched_prep(features, model = None):\n",
    "        \n",
    "    assert(type(features)==list), \"Please input your desired features for enrichment in a LIST format (even if only one\\\n",
    "    feature is being invoked!)\"\n",
    "    \n",
    "    X = df_lyrics[features + ['lyrics_clean']]\n",
    "    y = df_lyrics['Genre']\n",
    "    \n",
    "    X_train, X_test, y_train, y_test = train_test_split(X.copy(), y.copy(), test_size = 0.2, random_state = 42, stratify=y)\n",
    "    \n",
    "    \n",
    "    if model == 'logit' and ('Trails' in features):\n",
    "        scaler = MinMaxScaler()\n",
    "        \n",
    "        X_train['Trails'] = scaler.fit_transform(X_train['Trails'].values.reshape(-1, 1))\n",
    "        X_test['Trails'] = scaler.transform(X_test['Trails'].values.reshape(-1, 1))\n",
    "        \n",
    "    lyrics_to_vec_train = vectorizer.fit_transform(X_train.lyrics_clean)\n",
    "    lyrics_to_vec_test = vectorizer.transform(X_test.lyrics_clean)\n",
    "    \n",
    "    lyrics_to_vec_train = pd.DataFrame(lyrics_to_vec_train.toarray(), index = X_train.index)\n",
    "    lyrics_to_vec_test = pd.DataFrame(lyrics_to_vec_test.toarray(), index = X_test.index)\n",
    "\n",
    "    \n",
    "    X_train = pd.concat([lyrics_to_vec_train, X_train[features]], axis=1)\n",
    "    X_test = pd.concat([lyrics_to_vec_test, X_test[features]], axis=1)\n",
    "    \n",
    "    return X_train, X_test, y_train, y_test"
   ]
  },
  {
   "cell_type": "code",
   "execution_count": null,
   "id": "eba356b4-3c47-4178-ad1f-48c24761db5c",
   "metadata": {},
   "outputs": [],
   "source": [
    "features = ['Trails', 'Rock', 'Pop', 'Hip_hop']\n",
    "X_train, X_test, y_train, y_test = Enriched_prep(features)"
   ]
  },
  {
   "cell_type": "code",
   "execution_count": 67,
   "id": "5677c759-4460-4589-8d59-483c9eaad101",
   "metadata": {},
   "outputs": [
    {
     "data": {
      "text/html": [
       "<div>\n",
       "<style scoped>\n",
       "    .dataframe tbody tr th:only-of-type {\n",
       "        vertical-align: middle;\n",
       "    }\n",
       "\n",
       "    .dataframe tbody tr th {\n",
       "        vertical-align: top;\n",
       "    }\n",
       "\n",
       "    .dataframe thead th {\n",
       "        text-align: right;\n",
       "    }\n",
       "</style>\n",
       "<table border=\"1\" class=\"dataframe\">\n",
       "  <thead>\n",
       "    <tr style=\"text-align: right;\">\n",
       "      <th></th>\n",
       "      <th>0</th>\n",
       "      <th>1</th>\n",
       "      <th>2</th>\n",
       "      <th>3</th>\n",
       "      <th>4</th>\n",
       "      <th>5</th>\n",
       "      <th>6</th>\n",
       "      <th>7</th>\n",
       "      <th>8</th>\n",
       "      <th>9</th>\n",
       "      <th>...</th>\n",
       "      <th>994</th>\n",
       "      <th>995</th>\n",
       "      <th>996</th>\n",
       "      <th>997</th>\n",
       "      <th>998</th>\n",
       "      <th>999</th>\n",
       "      <th>Trails</th>\n",
       "      <th>Rock</th>\n",
       "      <th>Pop</th>\n",
       "      <th>Hip_hop</th>\n",
       "    </tr>\n",
       "  </thead>\n",
       "  <tbody>\n",
       "    <tr>\n",
       "      <th>78069</th>\n",
       "      <td>0</td>\n",
       "      <td>0</td>\n",
       "      <td>2</td>\n",
       "      <td>0</td>\n",
       "      <td>0</td>\n",
       "      <td>0</td>\n",
       "      <td>0</td>\n",
       "      <td>0</td>\n",
       "      <td>0</td>\n",
       "      <td>0</td>\n",
       "      <td>...</td>\n",
       "      <td>0</td>\n",
       "      <td>0</td>\n",
       "      <td>0</td>\n",
       "      <td>0</td>\n",
       "      <td>0</td>\n",
       "      <td>0</td>\n",
       "      <td>0</td>\n",
       "      <td>0</td>\n",
       "      <td>1</td>\n",
       "      <td>0</td>\n",
       "    </tr>\n",
       "    <tr>\n",
       "      <th>61432</th>\n",
       "      <td>0</td>\n",
       "      <td>0</td>\n",
       "      <td>0</td>\n",
       "      <td>0</td>\n",
       "      <td>0</td>\n",
       "      <td>0</td>\n",
       "      <td>0</td>\n",
       "      <td>0</td>\n",
       "      <td>0</td>\n",
       "      <td>0</td>\n",
       "      <td>...</td>\n",
       "      <td>0</td>\n",
       "      <td>0</td>\n",
       "      <td>0</td>\n",
       "      <td>0</td>\n",
       "      <td>0</td>\n",
       "      <td>0</td>\n",
       "      <td>74</td>\n",
       "      <td>0</td>\n",
       "      <td>0</td>\n",
       "      <td>1</td>\n",
       "    </tr>\n",
       "    <tr>\n",
       "      <th>67672</th>\n",
       "      <td>0</td>\n",
       "      <td>0</td>\n",
       "      <td>0</td>\n",
       "      <td>0</td>\n",
       "      <td>0</td>\n",
       "      <td>0</td>\n",
       "      <td>0</td>\n",
       "      <td>0</td>\n",
       "      <td>0</td>\n",
       "      <td>0</td>\n",
       "      <td>...</td>\n",
       "      <td>0</td>\n",
       "      <td>0</td>\n",
       "      <td>0</td>\n",
       "      <td>0</td>\n",
       "      <td>0</td>\n",
       "      <td>0</td>\n",
       "      <td>0</td>\n",
       "      <td>0</td>\n",
       "      <td>0</td>\n",
       "      <td>0</td>\n",
       "    </tr>\n",
       "    <tr>\n",
       "      <th>40523</th>\n",
       "      <td>0</td>\n",
       "      <td>0</td>\n",
       "      <td>0</td>\n",
       "      <td>0</td>\n",
       "      <td>0</td>\n",
       "      <td>0</td>\n",
       "      <td>0</td>\n",
       "      <td>0</td>\n",
       "      <td>0</td>\n",
       "      <td>0</td>\n",
       "      <td>...</td>\n",
       "      <td>0</td>\n",
       "      <td>0</td>\n",
       "      <td>0</td>\n",
       "      <td>0</td>\n",
       "      <td>0</td>\n",
       "      <td>0</td>\n",
       "      <td>0</td>\n",
       "      <td>0</td>\n",
       "      <td>1</td>\n",
       "      <td>0</td>\n",
       "    </tr>\n",
       "    <tr>\n",
       "      <th>45104</th>\n",
       "      <td>0</td>\n",
       "      <td>0</td>\n",
       "      <td>0</td>\n",
       "      <td>0</td>\n",
       "      <td>0</td>\n",
       "      <td>0</td>\n",
       "      <td>0</td>\n",
       "      <td>0</td>\n",
       "      <td>0</td>\n",
       "      <td>0</td>\n",
       "      <td>...</td>\n",
       "      <td>0</td>\n",
       "      <td>0</td>\n",
       "      <td>0</td>\n",
       "      <td>0</td>\n",
       "      <td>0</td>\n",
       "      <td>0</td>\n",
       "      <td>0</td>\n",
       "      <td>0</td>\n",
       "      <td>0</td>\n",
       "      <td>1</td>\n",
       "    </tr>\n",
       "  </tbody>\n",
       "</table>\n",
       "<p>5 rows × 1004 columns</p>\n",
       "</div>"
      ],
      "text/plain": [
       "       0  1  2  3  4  5  6  7  8  9  ...  994  995  996  997  998  999  \\\n",
       "78069  0  0  2  0  0  0  0  0  0  0  ...    0    0    0    0    0    0   \n",
       "61432  0  0  0  0  0  0  0  0  0  0  ...    0    0    0    0    0    0   \n",
       "67672  0  0  0  0  0  0  0  0  0  0  ...    0    0    0    0    0    0   \n",
       "40523  0  0  0  0  0  0  0  0  0  0  ...    0    0    0    0    0    0   \n",
       "45104  0  0  0  0  0  0  0  0  0  0  ...    0    0    0    0    0    0   \n",
       "\n",
       "       Trails  Rock  Pop  Hip_hop  \n",
       "78069       0     0    1        0  \n",
       "61432      74     0    0        1  \n",
       "67672       0     0    0        0  \n",
       "40523       0     0    1        0  \n",
       "45104       0     0    0        1  \n",
       "\n",
       "[5 rows x 1004 columns]"
      ]
     },
     "execution_count": 67,
     "metadata": {},
     "output_type": "execute_result"
    }
   ],
   "source": [
    "X_train.head()"
   ]
  },
  {
   "cell_type": "code",
   "execution_count": 87,
   "id": "4b0b9fe3-4f6b-436d-b11b-145f80c63717",
   "metadata": {},
   "outputs": [],
   "source": [
    "X_train.rename(columns=dict(zip(X_train.columns[:-4], X_train.columns[:-4].map(str))), inplace=True)\n",
    "\n",
    "X_test.rename(columns=dict(zip(X_test.columns[:-4], X_test.columns[:-4].map(str))), inplace=True)"
   ]
  },
  {
   "cell_type": "markdown",
   "id": "b954b1f2-9173-4fdf-8d74-f06c9016c63a",
   "metadata": {},
   "source": [
    "We instantiate the random forest classifier."
   ]
  },
  {
   "cell_type": "code",
   "execution_count": 72,
   "id": "d8fb36f1-4456-49ea-8e57-c927751e92e5",
   "metadata": {},
   "outputs": [],
   "source": [
    "rf = RandomForestClassifier()"
   ]
  },
  {
   "cell_type": "markdown",
   "id": "a5d4293a-ae62-4a83-9111-ca309a3f96c3",
   "metadata": {},
   "source": [
    "# Modelling\n",
    "## Grid Search\n",
    "\n",
    "We perform a grid search to find the best parameters."
   ]
  },
  {
   "cell_type": "code",
   "execution_count": 75,
   "id": "c270d4c9-25a6-42e8-b519-282f5194bdd4",
   "metadata": {},
   "outputs": [],
   "source": [
    "rf_params = {\n",
    "    'n_estimators' : [100, 200, 300],\n",
    "    'max_depth' : [None,3,5,7],\n",
    "}"
   ]
  },
  {
   "cell_type": "code",
   "execution_count": 88,
   "id": "172ac4fa-dd72-49e0-9d6e-fa60677b2b7c",
   "metadata": {},
   "outputs": [
    {
     "name": "stdout",
     "output_type": "stream",
     "text": [
      "0.7556661199506893\n"
     ]
    }
   ],
   "source": [
    "gs = GridSearchCV(rf, param_grid = rf_params, cv = 5)\n",
    "gs.fit(X_train,y_train)\n",
    "\n",
    "print(gs.best_score_)"
   ]
  },
  {
   "cell_type": "code",
   "execution_count": 89,
   "id": "d52a3af0-8f90-479d-a280-f8f33aa0852a",
   "metadata": {},
   "outputs": [
    {
     "data": {
      "text/plain": [
       "{'max_depth': None, 'n_estimators': 200}"
      ]
     },
     "execution_count": 89,
     "metadata": {},
     "output_type": "execute_result"
    }
   ],
   "source": [
    "gs.best_params_"
   ]
  },
  {
   "cell_type": "markdown",
   "id": "31338f30-04af-440c-8335-d239ae885e81",
   "metadata": {},
   "source": [
    "## Random forest\n",
    "\n",
    "We can now run the random forest algorithm using the best parameters."
   ]
  },
  {
   "cell_type": "code",
   "execution_count": 90,
   "id": "9fa5ecad-7ba1-464e-a7b1-462d13686027",
   "metadata": {},
   "outputs": [],
   "source": [
    "rf_model = RandomForestClassifier(n_estimators = 200, max_depth = None) # Object instantiation, using the best parameters\n",
    "\n",
    "rf_model.fit(X_train, y_train) # Model fitting"
   ]
  },
  {
   "cell_type": "code",
   "execution_count": 92,
   "id": "cea12bd4-f25c-4372-812f-1fc2fe323ccf",
   "metadata": {},
   "outputs": [
    {
     "data": {
      "text/plain": [
       "0.9967577436414001"
      ]
     },
     "execution_count": 92,
     "metadata": {},
     "output_type": "execute_result"
    }
   ],
   "source": [
    "rf_model.score(X_train, y_train) # Training accuracy"
   ]
  },
  {
   "cell_type": "code",
   "execution_count": 93,
   "id": "f8d1b4a7-2764-4f7b-bd0b-6267898bdd25",
   "metadata": {},
   "outputs": [
    {
     "data": {
      "text/plain": [
       "0.7545483160214038"
      ]
     },
     "execution_count": 93,
     "metadata": {},
     "output_type": "execute_result"
    }
   ],
   "source": [
    "rf_model.score(X_test, y_test) # Testing accuracy"
   ]
  },
  {
   "cell_type": "markdown",
   "id": "d5af124d-7b19-49e3-9992-839257f64aa0",
   "metadata": {},
   "source": [
    "The high accuracy on the training set but not the testing set indicates overfitting."
   ]
  },
  {
   "cell_type": "markdown",
   "id": "3cbf54ad-c746-4132-b119-09c80fafb198",
   "metadata": {},
   "source": [
    "## Save model"
   ]
  },
  {
   "cell_type": "code",
   "execution_count": 94,
   "id": "e9bf18bd-878b-41ac-8090-7696cba3671b",
   "metadata": {},
   "outputs": [],
   "source": [
    "# save the model to disk\n",
    "filename = 'randomForest_model.sav'\n",
    "pickle.dump(rf_model, open(filename, 'wb'))"
   ]
  }
 ],
 "metadata": {
  "kernelspec": {
   "display_name": "Python 3 (ipykernel)",
   "language": "python",
   "name": "python3"
  },
  "language_info": {
   "codemirror_mode": {
    "name": "ipython",
    "version": 3
   },
   "file_extension": ".py",
   "mimetype": "text/x-python",
   "name": "python",
   "nbconvert_exporter": "python",
   "pygments_lexer": "ipython3",
   "version": "3.8.12"
  }
 },
 "nbformat": 4,
 "nbformat_minor": 5
}
