{
 "cells": [
  {
   "cell_type": "code",
   "execution_count": 1,
   "id": "b1dd2124-f8f9-43d1-a3a7-bac44fdf0f31",
   "metadata": {},
   "outputs": [
    {
     "name": "stderr",
     "output_type": "stream",
     "text": [
      "[nltk_data] Downloading package stopwords to\n",
       "[nltk_data]   Package stopwords is already up-to-date!\n"
     ]
    }
   ],
   "source": [
    "# Data Manipulation\n",
    "#-----------------------------\n",
    "import pandas as pd\n",
    "\n",
    "# Data Visualisation\n",
    "#-----------------------------\n",
    "import seaborn as sns\n",
    "\n",
    "# Natural Laguage Processing\n",
    "#-----------------------------\n",
    "import nltk\n",
    "from nltk.corpus import stopwords\n",
    "from nltk.tokenize import wordpunct_tokenize\n",
    "\n",
    "from nltk.stem.porter import PorterStemmer\n",
    "from nltk.stem.lancaster import LancasterStemmer\n",
    "from nltk.stem import SnowballStemmer\n",
    "nltk.download('stopwords')\n",
    "nltk.download('wordnet')\n",
    "\n",
    "# Sci-kit learn packages\n",
    "#-----------------------------\n",
    "# Preprocessing\n",
    "from sklearn.feature_extraction.text import CountVectorizer\n",
    "from sklearn.model_selection import train_test_split, cross_val_score, GridSearchCV\n",
    "\n",
    "# Modelling\n",
    "from sklearn.linear_model import LogisticRegression\n",
    "\n",
    "# Metrics\n",
    "from sklearn.metrics import confusion_matrix, accuracy_score, recall_score, f1_score, precision_score\n",
    "\n",
    "\n",
    "# Other packages\n",
    "#-----------------------------\n",
    "import string\n",
    "import re\n",
    "\n",
    "from time import time\n"
   ]
  },
  {
   "cell_type": "markdown",
   "id": "271de855-1549-4c8d-ac63-1b34aa07647c",
   "metadata": {
    "tags": []
   },
   "source": [
    "# Import the dataframe"
   ]
  },
  {
   "cell_type": "code",
   "execution_count": 3,
   "id": "dbaa3c26-f668-482a-86cc-c272093d652c",
   "metadata": {},
   "outputs": [],
   "source": [
    "df_lyrics = pd.read_csv('../Data/Processed Data/clean_lyrics.csv', keep_default_na = False)"
   ]
  },
  {
   "cell_type": "code",
   "execution_count": 4,
   "id": "5eb69386-c79e-4814-b1d3-11cf07701787",
   "metadata": {},
   "outputs": [
    {
     "data": {
      "text/html": [
       "<div>\n",
       "<style scoped>\n",
       "    .dataframe tbody tr th:only-of-type {\n",
       "        vertical-align: middle;\n",
       "    }\n",
       "\n",
       "    .dataframe tbody tr th {\n",
       "        vertical-align: top;\n",
       "    }\n",
       "\n",
       "    .dataframe thead th {\n",
       "        text-align: right;\n",
       "    }\n",
       "</style>\n",
       "<table border=\"1\" class=\"dataframe\">\n",
       "  <thead>\n",
       "    <tr style=\"text-align: right;\">\n",
       "      <th></th>\n",
       "      <th>SName</th>\n",
       "      <th>Lyric</th>\n",
       "      <th>Artist</th>\n",
       "      <th>Genre</th>\n",
       "      <th>multiple_letter</th>\n",
       "      <th>Trails</th>\n",
       "      <th>lyrics_clean</th>\n",
       "      <th>Rock</th>\n",
       "      <th>Pop</th>\n",
       "      <th>Hip_hop</th>\n",
       "    </tr>\n",
       "  </thead>\n",
       "  <tbody>\n",
       "    <tr>\n",
       "      <th>0</th>\n",
       "      <td>World So Cold</td>\n",
       "      <td>It starts with pain, followed by hate. Fueled ...</td>\n",
       "      <td>12 Stones</td>\n",
       "      <td>0</td>\n",
       "      <td>0.0</td>\n",
       "      <td>0</td>\n",
       "      <td>start pain follow hate fuel endless question o...</td>\n",
       "      <td>1</td>\n",
       "      <td>0</td>\n",
       "      <td>1</td>\n",
       "    </tr>\n",
       "    <tr>\n",
       "      <th>1</th>\n",
       "      <td>Broken</td>\n",
       "      <td>Freedom!. Alone again again alone. Patiently w...</td>\n",
       "      <td>12 Stones</td>\n",
       "      <td>0</td>\n",
       "      <td>0.0</td>\n",
       "      <td>0</td>\n",
       "      <td>freedom alon alon patient wait phone hope call...</td>\n",
       "      <td>1</td>\n",
       "      <td>1</td>\n",
       "      <td>0</td>\n",
       "    </tr>\n",
       "    <tr>\n",
       "      <th>2</th>\n",
       "      <td>3 Leaf Loser</td>\n",
       "      <td>Biting the hand that feeds you, lying to the v...</td>\n",
       "      <td>12 Stones</td>\n",
       "      <td>0</td>\n",
       "      <td>0.0</td>\n",
       "      <td>0</td>\n",
       "      <td>bite hand feed lie voic insid reach beg someth...</td>\n",
       "      <td>1</td>\n",
       "      <td>1</td>\n",
       "      <td>0</td>\n",
       "    </tr>\n",
       "  </tbody>\n",
       "</table>\n",
       "</div>"
      ],
      "text/plain": [
       "           SName                                              Lyric  \\\n",
       "0  World So Cold  It starts with pain, followed by hate. Fueled ...   \n",
       "1         Broken  Freedom!. Alone again again alone. Patiently w...   \n",
       "2   3 Leaf Loser  Biting the hand that feeds you, lying to the v...   \n",
       "\n",
       "      Artist  Genre  multiple_letter  Trails  \\\n",
       "0  12 Stones      0              0.0       0   \n",
       "1  12 Stones      0              0.0       0   \n",
       "2  12 Stones      0              0.0       0   \n",
       "\n",
       "                                        lyrics_clean  Rock  Pop  Hip_hop  \n",
       "0  start pain follow hate fuel endless question o...     1    0        1  \n",
       "1  freedom alon alon patient wait phone hope call...     1    1        0  \n",
       "2  bite hand feed lie voic insid reach beg someth...     1    1        0  "
      ]
     },
     "execution_count": 4,
     "metadata": {},
     "output_type": "execute_result"
    }
   ],
   "source": [
    "df_lyrics.head(3)"
   ]
  },
  {
   "cell_type": "code",
   "execution_count": 5,
   "id": "3374f42e-274c-4d4b-ab54-6a35063af38e",
   "metadata": {},
   "outputs": [
    {
     "data": {
      "text/plain": [
       "(79452, 10)"
      ]
     },
     "execution_count": 5,
     "metadata": {},
     "output_type": "execute_result"
    }
   ],
   "source": [
    "df_lyrics.shape"
   ]
  },
  {
   "cell_type": "code",
   "execution_count": 6,
   "id": "89344e55-d67e-498b-8dda-9cfaa1d656d7",
   "metadata": {},
   "outputs": [
    {
     "data": {
      "text/plain": [
       "Genre\n",
       "0    1.795946\n",
       "1    9.277079\n",
       "2    2.151848\n",
       "Name: Trails, dtype: float64"
      ]
     },
     "execution_count": 6,
     "metadata": {},
     "output_type": "execute_result"
    }
   ],
   "source": [
    "df_lyrics.groupby('Genre')['Trails'].mean()"
   ]
  },
  {
   "cell_type": "markdown",
   "id": "407f4db7-28ec-4720-9242-ffc05592106a",
   "metadata": {},
   "source": [
    "# Logistic Regression"
   ]
  },
  {
   "cell_type": "markdown",
   "id": "6042dbd5-1427-4bc7-a904-ee15d6ca5863",
   "metadata": {
    "tags": []
   },
   "source": [
    "## Regression using the lyrics only\n",
    "\n",
    "We will first experiment with different parameters of MultiClass Logistic Regression, using the lyrics only.\n",
    "In the df_lyrics dataframe, the lyrics were stemmed using the SnowBall stemmer. However, in this notebook, we will go through the other stemmers as well, to study if they will have any impact on the model performance.\n",
    "\n",
    "We will measure the time it takes for each model to be fitted as well."
   ]
  },
  {
   "cell_type": "code",
   "execution_count": 7,
   "id": "974d60e5-3b09-48d5-952d-f326192f90e9",
   "metadata": {},
   "outputs": [
    {
     "name": "stdout",
     "output_type": "stream",
     "text": [
      "Your number of available CPU workers is: 4\n"
     ]
    }
   ],
   "source": [
    "import multiprocessing\n",
    "print(f'Your number of available CPU workers is: {multiprocessing.cpu_count()}')"
   ]
  },
  {
   "cell_type": "code",
   "execution_count": 8,
   "id": "46d983d4-66bd-459d-8723-6840adc81404",
   "metadata": {},
   "outputs": [],
   "source": [
    "def apr(y_pred, y_real):\n",
    "    \n",
    "    '''This function takes in the real and predicted values of the target.\n",
    "    It returns the following performance metrics: accuracy, precision, recall and F1-score'''\n",
    "    \n",
    "    accuracy = accuracy_score(y_real, y_pred) ## From sklearn, get the accuracy\n",
    "    precision = precision_score(y_real, y_pred, average='weighted') ## precision\n",
    "    recall = recall_score(y_real, y_pred, average='weighted') ## recall\n",
    "    f1 = f1_score(y_real, y_pred, average='weighted') ## F1\n",
    "    \n",
    "    ''' Print them into a readable format '''\n",
    "    print(f\"Accuracy:{accuracy}\")\n",
    "    print(f\"Precision:{precision}\")\n",
    "    print(f\"Recall:{recall}\")\n",
    "    print(f'F1:{f1}')\n",
    "    \n",
    "    return accuracy, precision, recall, f1 ## return them in case we need to save them in non-local variables"
   ]
  },
  {
   "cell_type": "markdown",
   "id": "08360d0b-9960-44ab-8e73-bc4244fa2bdb",
   "metadata": {
    "tags": []
   },
   "source": [
    "### SnowBall Stemmer\n",
    "\n",
    "In this section, we carry out several Multiclass Logistic Regressions, using different solvers and penalties.\n",
    "The order is as follow:\n",
    " 1. Default solver and penalty\n",
    " 2. Saga solver, default penalty (L2)\n",
    " 3. Saga solver, Elasticnet penalty\n",
    " 4. Saga solver, L1 penalty\n",
    " 5. Newton solver, default penalty (L2)\n",
    " 6. Newton solver, default penalty (L2), different regularization strength"
   ]
  },
  {
   "cell_type": "code",
   "execution_count": 9,
   "id": "439d28f8-85b3-420e-9b59-925c8aeec629",
   "metadata": {},
   "outputs": [],
   "source": [
    "vectorizer = CountVectorizer(analyzer = \"word\",\n",
    "                             tokenizer = None,\n",
    "                             preprocessor = None,\n",
    "                             stop_words = None,\n",
    "                             max_features = 1000)"
   ]
  },
  {
   "cell_type": "markdown",
   "id": "254ad95e-eb16-486e-aa1b-764095dcd090",
   "metadata": {
    "tags": []
   },
   "source": [
    "#### Pre-processing\n",
    "\n",
    "##### Features and target sets"
   ]
  },
  {
   "cell_type": "code",
   "execution_count": 10,
   "id": "6751cd58-7bd2-4f1a-9137-662687d2a46b",
   "metadata": {},
   "outputs": [],
   "source": [
    "X = df_lyrics['lyrics_clean']\n",
    "y = df_lyrics['Genre']"
   ]
  },
  {
   "cell_type": "markdown",
   "id": "3b280139-6a01-4446-a8c8-bd74d0ff0305",
   "metadata": {},
   "source": [
    "##### Train/Test split"
   ]
  },
  {
   "cell_type": "code",
   "execution_count": 11,
   "id": "33027d95-e9c0-4baf-b764-8ed262e26f9b",
   "metadata": {},
   "outputs": [],
   "source": [
    "# We stratify the sets, as the classes are not well balanced.\n",
    "X_train, X_test, y_train, y_test = train_test_split(X, y, test_size = 0.2, random_state = 42, stratify=y)"
   ]
  },
  {
   "cell_type": "markdown",
   "id": "be39cf43-32cc-44d9-b5ed-c3a25a841a7c",
   "metadata": {},
   "source": [
    "##### Vectorization"
   ]
  },
  {
   "cell_type": "code",
   "execution_count": 12,
   "id": "396079d8-df72-4514-a0be-4d81392bd77c",
   "metadata": {},
   "outputs": [],
   "source": [
    "X_train = vectorizer.fit_transform(X_train)\n",
    "X_test = vectorizer.transform(X_test)"
   ]
  },
  {
   "cell_type": "markdown",
   "id": "02c93fdb-e17f-431a-9192-58b2745dc8e3",
   "metadata": {
    "tags": []
   },
   "source": [
    "#### 1. Basic Model Fitting"
   ]
  },
  {
   "cell_type": "code",
   "execution_count": null,
   "id": "5a90fb9f-8f93-4394-a61a-e8459f8ade67",
   "metadata": {},
   "outputs": [],
   "source": [
    "now = time()\n",
    "lr = LogisticRegression(max_iter=300)\n",
    "lr.fit(X_train, y_train)\n",
    "print(\"Time elapsed in seconds: {}\".format(time()-now))"
   ]
  },
  {
   "cell_type": "markdown",
   "id": "7a913bb0-b0b0-4476-ae76-37a989785daa",
   "metadata": {},
   "source": [
    "Because of the important number of features, we will consistantly get a 'failure to converge '. For better readability, we simply remove the warnings. We tested the code beforehand, to make sure that we were not getting any other type of warning."
   ]
  },
  {
   "cell_type": "code",
   "execution_count": 14,
   "id": "4c085879-c9df-4160-a8d4-f64b49d9936a",
   "metadata": {},
   "outputs": [],
   "source": [
    "import warnings\n",
    "warnings.filterwarnings(\"ignore\")\n"
   ]
  },
  {
   "cell_type": "markdown",
   "id": "dcce4e2b-584e-4ab3-adf3-91aeaf411dcb",
   "metadata": {
    "tags": []
   },
   "source": [
    "##### Training Set Metrics"
   ]
  },
  {
   "cell_type": "code",
   "execution_count": 15,
   "id": "169ba9d0-0967-4479-ba8d-ffe778caef94",
   "metadata": {},
   "outputs": [
    {
     "name": "stdout",
     "output_type": "stream",
     "text": [
      "Accuracy:0.7595538144459653\n",
      "Precision:0.7512110021169807\n",
      "Recall:0.7595538144459653\n",
      "F1:0.7434242598538158\n"
     ]
    },
    {
     "data": {
      "text/plain": [
       "(0.7595538144459653,\n",
       " 0.7512110021169807,\n",
       " 0.7595538144459653,\n",
       " 0.7434242598538158)"
      ]
     },
     "execution_count": 15,
     "metadata": {},
     "output_type": "execute_result"
    }
   ],
   "source": [
    "## Output the metrics using the apr() function\n",
    "\n",
    "apr(lr.predict(X_train), y_train)"
   ]
  },
  {
   "cell_type": "code",
   "execution_count": 16,
   "id": "6a024671-692a-453b-9d77-7db679fd6ed6",
   "metadata": {},
   "outputs": [
    {
     "data": {
      "image/png": "[encoded data removed]",
      "text/plain": [
       "<Figure size 432x288 with 2 Axes>"
      ]
     },
     "metadata": {
      "needs_background": "light"
     },
     "output_type": "display_data"
    }
   ],
   "source": [
    "conf_train = confusion_matrix(y_train, lr.predict(X_train))\n",
    "matrix = sns.heatmap(conf_train, annot = True, cmap=\"PiYG\")"
   ]
  },
  {
   "cell_type": "markdown",
   "id": "8f97ff18-7567-4151-825e-b94951372d2d",
   "metadata": {},
   "source": [
    "##### Testing Set Metrics"
   ]
  },
  {
   "cell_type": "code",
   "execution_count": 17,
   "id": "bb462c9d-ae79-4176-b64b-d6812ad38d94",
   "metadata": {},
   "outputs": [
    {
     "name": "stdout",
     "output_type": "stream",
     "text": [
      "Accuracy:0.747152476244415\n",
      "Precision:0.7367041148483754\n",
      "Recall:0.747152476244415\n",
      "F1:0.7315343980178692\n"
     ]
    },
    {
     "data": {
      "text/plain": [
       "(0.747152476244415, 0.7367041148483754, 0.747152476244415, 0.7315343980178692)"
      ]
     },
     "execution_count": 17,
     "metadata": {},
     "output_type": "execute_result"
    }
   ],
   "source": [
    "apr(lr.predict(X_test), y_test)"
   ]
  },
  {
   "cell_type": "code",
   "execution_count": 18,
   "id": "c8612020-4434-4cdc-aa97-d76cf93502eb",
   "metadata": {},
   "outputs": [
    {
     "data": {
      "image/png": "[encoded data removed]",
      "text/plain": [
       "<Figure size 432x288 with 2 Axes>"
      ]
     },
     "metadata": {
      "needs_background": "light"
     },
     "output_type": "display_data"
    }
   ],
   "source": [
    "conf = confusion_matrix(y_train, lr.predict(X_train))\n",
    "matrix = sns.heatmap(conf, annot = True, cmap=\"PiYG\")"
   ]
  },
  {
   "cell_type": "markdown",
   "id": "69edb1d1-6cb7-4f98-ba03-ca66233c795e",
   "metadata": {},
   "source": [
    "#### 2. Saga solver, default penalty (L2)"
   ]
  },
  {
   "cell_type": "code",
   "execution_count": 19,
   "id": "72a14631-2d04-4f2d-aecf-eee7500030f8",
   "metadata": {},
   "outputs": [
    {
     "name": "stdout",
     "output_type": "stream",
     "text": [
      "Time elapsed in seconds: 30.9097900390625\n",
      "Accuracy:0.7372726700648166\n",
      "Precision:0.7259674584834424\n",
      "Recall:0.7372726700648166\n",
      "F1:0.7236460189146265\n"
     ]
    },
    {
     "name": "stderr",
     "output_type": "stream",
     "text": [
      "F:\\Anaconda3\\lib\\site-packages\\sklearn\\linear_model\\_sag.py:352: ConvergenceWarning: The max_iter was reached which means the coef_ did not converge\n",
      "  warnings.warn(\n"
     ]
    },
    {
     "data": {
      "text/plain": [
       "(0.7372726700648166,\n",
       " 0.7259674584834424,\n",
       " 0.7372726700648166,\n",
       " 0.7236460189146265)"
      ]
     },
     "execution_count": 19,
     "metadata": {},
     "output_type": "execute_result"
    }
   ],
   "source": [
    "now=time()\n",
    "lr_opt = LogisticRegression(max_iter=200, solver='saga', n_jobs = multiprocessing.cpu_count()-1, C=1)\n",
    "lr_opt.fit(X_train, y_train)\n",
    "print(\"Time elapsed in seconds: {}\".format(time()-now))\n",
    "apr(lr_opt.predict(X_test), y_test)"
   ]
  },
  {
   "cell_type": "markdown",
   "id": "77c768a7-cc4c-49f9-b720-8a6d7afe8f1e",
   "metadata": {},
   "source": [
    "#### 3. Saga solver, Elasticnet penalty"
   ]
  },
  {
   "cell_type": "code",
   "execution_count": 20,
   "id": "d4c1c390-43e9-43f8-9634-83a20f0901b9",
   "metadata": {},
   "outputs": [
    {
     "name": "stdout",
     "output_type": "stream",
     "text": [
      "Time elapsed in seconds: 178.0121066570282\n",
      "Accuracy:0.7373355987665975\n",
      "Precision:0.7259319971492063\n",
      "Recall:0.7373355987665975\n",
      "F1:0.7236853222490761\n"
     ]
    },
    {
     "name": "stderr",
     "output_type": "stream",
     "text": [
      "F:\\Anaconda3\\lib\\site-packages\\sklearn\\linear_model\\_sag.py:352: ConvergenceWarning: The max_iter was reached which means the coef_ did not converge\n",
      "  warnings.warn(\n"
     ]
    },
    {
     "data": {
      "text/plain": [
       "(0.7373355987665975,\n",
       " 0.7259319971492063,\n",
       " 0.7373355987665975,\n",
       " 0.7236853222490761)"
      ]
     },
     "execution_count": 20,
     "metadata": {},
     "output_type": "execute_result"
    }
   ],
   "source": [
    "now=time()\n",
    "lr_opt_split = LogisticRegression(max_iter=200, solver='saga',penalty='elasticnet',\n",
    "                              l1_ratio=.5, n_jobs = multiprocessing.cpu_count()-1, C=1)\n",
    "lr_opt_split.fit(X_train, y_train)\n",
    "print(\"Time elapsed in seconds: {}\".format(time()-now))\n",
    "apr(lr_opt_split.predict(X_test), y_test)"
   ]
  },
  {
   "cell_type": "markdown",
   "id": "19ad4a55-7f44-4f21-b5ab-92a9c9d0b783",
   "metadata": {},
   "source": [
    "#### 4. Saga solver, L1 penalty"
   ]
  },
  {
   "cell_type": "code",
   "execution_count": 21,
   "id": "700070bb-aa77-4757-8957-03cfd8b564f6",
   "metadata": {},
   "outputs": [
    {
     "name": "stdout",
     "output_type": "stream",
     "text": [
      "Time elapsed in seconds: 159.19625759124756\n",
      "Accuracy:0.7373355987665975\n",
      "Precision:0.7258974588505711\n",
      "Recall:0.7373355987665975\n",
      "F1:0.7235953755985124\n"
     ]
    },
    {
     "name": "stderr",
     "output_type": "stream",
     "text": [
      "F:\\Anaconda3\\lib\\site-packages\\sklearn\\linear_model\\_sag.py:352: ConvergenceWarning: The max_iter was reached which means the coef_ did not converge\n",
      "  warnings.warn(\n"
     ]
    },
    {
     "data": {
      "text/plain": [
       "(0.7373355987665975,\n",
       " 0.7258974588505711,\n",
       " 0.7373355987665975,\n",
       " 0.7235953755985124)"
      ]
     },
     "execution_count": 21,
     "metadata": {},
     "output_type": "execute_result"
    }
   ],
   "source": [
    "now=time()\n",
    "lr_opt_one = LogisticRegression(max_iter=200, solver='saga',penalty='l1',\n",
    "                               n_jobs = multiprocessing.cpu_count()-1, C=1)\n",
    "lr_opt_one.fit(X_train, y_train)\n",
    "print(\"Time elapsed in seconds: {}\".format(time()-now))\n",
    "apr(lr_opt_one.predict(X_test), y_test)"
   ]
  },
  {
   "cell_type": "markdown",
   "id": "d4f1bee1-c2cb-4899-b1ef-bb77bb70e5e6",
   "metadata": {},
   "source": [
    "#### 5. Newton solver, default penalty (L2)"
   ]
  },
  {
   "cell_type": "code",
   "execution_count": 22,
   "id": "bb89665b-bd66-43f5-bdfd-16810a8d7341",
   "metadata": {},
   "outputs": [
    {
     "name": "stdout",
     "output_type": "stream",
     "text": [
      "Time elapsed in seconds: 65.59594011306763\n",
      "Accuracy:0.747152476244415\n",
      "Precision:0.7366482703738324\n",
      "Recall:0.747152476244415\n",
      "F1:0.7314587352672967\n"
     ]
    },
    {
     "data": {
      "text/plain": [
       "(0.747152476244415, 0.7366482703738324, 0.747152476244415, 0.7314587352672967)"
      ]
     },
     "execution_count": 22,
     "metadata": {},
     "output_type": "execute_result"
    }
   ],
   "source": [
    "now=time()\n",
    "lr_opt_newt = LogisticRegression(max_iter=200, solver='newton-cg',penalty='l2',\n",
    "                               n_jobs = multiprocessing.cpu_count()-1, C=1)\n",
    "lr_opt_newt.fit(X_train, y_train)\n",
    "print(\"Time elapsed in seconds: {}\".format(time()-now))\n",
    "apr(lr_opt_newt.predict(X_test), y_test)"
   ]
  },
  {
   "cell_type": "markdown",
   "id": "c0eabfaa-59f3-458b-8fff-5d0ee8dcaf2b",
   "metadata": {},
   "source": [
    "#### 6. Newton solver, default penalty (L2), different inverse of regularization strength (C)"
   ]
  },
  {
   "cell_type": "code",
   "execution_count": 23,
   "id": "1b670564-ec7b-47ef-9c2f-1ce6b7dac7f9",
   "metadata": {},
   "outputs": [
    {
     "name": "stdout",
     "output_type": "stream",
     "text": [
      "The score for C=10 is 0.7474671197533195 \n",
      "\n",
      "The score for C=20 is 0.7475300484551004 \n",
      "\n",
      "The score for C=30 is 0.7475300484551004 \n",
      "\n",
      "The score for C=40 is 0.7475300484551004 \n",
      "\n",
      "The score for C=50 is 0.7475300484551004 \n",
      "\n",
      "The score for C=60 is 0.7475300484551004 \n",
      "\n",
      "The score for C=70 is 0.7475300484551004 \n",
      "\n",
      "The score for C=80 is 0.7475300484551004 \n",
      "\n",
      "The score for C=90 is 0.7475300484551004 \n",
      "\n",
      "The score for C=100 is 0.7475300484551004 \n",
      "\n"
     ]
    }
   ],
   "source": [
    "C_set = [10,20,30,40,50,60,70,80,90,100]\n",
    "for regular in C_set:\n",
    "    lr_opt_newt_C = LogisticRegression(max_iter=200, solver='newton-cg',penalty='l2',\n",
    "                               n_jobs = multiprocessing.cpu_count()-1, C=regular)\n",
    "    lr_opt_newt_C.fit(X_train, y_train)\n",
    "    print(f'The score for C={regular} is {lr_opt_newt_C.score(X_test, y_test)}', \"\\n\")"
   ]
  },
  {
   "cell_type": "markdown",
   "id": "d89d0301-1142-45c1-afc3-833619aafba9",
   "metadata": {},
   "source": [
    "#### Summary\n",
    "\n",
    "For C=1 (default value), we have:\n",
    "\n",
    "| | **Base** | **L1 Saga** | **L2 Saga**|  **Elastic Saga** | **Newton** |\n",
    "| -------------- | -------------- | ------------- | ------------- | ------------- | ------------- |\n",
    "| **Accuracy** | 71.29 % | 71.32 % | 71.31 % | 71.34 % | 71.35 % |\n",
    "| **Precision** | 70.41 % | 70.46 % | 70.40 % | 70.48 % | 70.48 % |\n",
    "| **Recall** | 71.29 % | 71.32 % | 71.31 % | 70.48 % | 71.35 % | \n",
    "| **F1** | 69.70 % | 71.32 % | 71.31% | 71.34 % | 69.76 % |\n"
   ]
  },
  {
   "cell_type": "markdown",
   "id": "48c4e14e-f148-4239-b9f6-7f0236c36944",
   "metadata": {},
   "source": [
    "##### Things to considere to improve the metrics:\n",
    "\n",
    "\n",
    "- Try performance WITH the features enrichment (columns: Rock, Pop, Hip_hop, multiple_letter, Trails)\n",
    "\n",
    "- Try all permutations (with/without FE) of stemmers\n",
    "\n",
    "- Change seed and/or split size = Run k-fold CV"
   ]
  },
  {
   "cell_type": "markdown",
   "id": "28c341fb-7496-4d3c-864a-dbcff615d44c",
   "metadata": {},
   "source": [
    "## GridSearch\n",
    "\n",
    "(Do not run, very time consuming)"
   ]
  },
  {
   "cell_type": "code",
   "execution_count": 24,
   "id": "d382dc46-88ae-4301-9db6-b7864dcc20c0",
   "metadata": {},
   "outputs": [],
   "source": [
    "# lr_params = {\n",
    "#     'C': [1, 10, 20, 30, 40, 50, 60, 70, 80, 90, 100],\n",
    "#     'solver' : ['newton-cg', 'saga'],\n",
    "#     'max_iter' : [200],\n",
    "#     'n_jobs' : [multiprocessing.cpu_count()-1],\n",
    "#     'multi_class': ['ovr', 'multinomial']\n",
    "# }\n",
    "\n",
    "# ## Perform the grid search\n",
    "\n",
    "# gs = GridSearchCV(LogisticRegression(), param_grid=lr_params, cv=10)\n",
    "\n",
    "# ## Fit the models\n",
    "\n",
    "# gs.fit(X_train, y_train)\n",
    "\n",
    "# ## Output the best score only\n",
    "\n",
    "# print(gs.best_score_)\n",
    "\n",
    "# ## Get the parameters for the best estimator\n",
    "\n",
    "# gs.best_estimator_"
   ]
  },
  {
   "cell_type": "markdown",
   "id": "b36787c4-e5b9-4e2b-924a-9769f142fe01",
   "metadata": {},
   "source": [
    "_Cross Validation Score_"
   ]
  },
  {
   "cell_type": "code",
   "execution_count": 25,
   "id": "daceac56-6bbd-4d15-bd5e-93c649259ad3",
   "metadata": {},
   "outputs": [],
   "source": [
    "# lr_score = cross_val_score(LogisticRegression(max_iter=200, solver='saga',penalty='l1',\n",
    "#                                n_jobs = multiprocessing.cpu_count()-1, C=1), X_train, y_train, cv=10)\n",
    "# print(\"The knn score on 10-fold CV against overfitting, on a scale 0.000 - 1.000 is {}.\".format(np.std(lr_score)))"
   ]
  },
  {
   "cell_type": "markdown",
   "id": "285c05ea-82a8-4da8-bd15-6554adb6a7f9",
   "metadata": {},
   "source": [
    "### Other stemming approaches"
   ]
  },
  {
   "cell_type": "code",
   "execution_count": 26,
   "id": "3152c009-55e8-4d41-a5fa-b40f1fc38e25",
   "metadata": {},
   "outputs": [],
   "source": [
    "stpwrds = stopwords.words('english') # Import the list of stopwords.\n",
    "string.punctuation # Import the list of punctuation.\n",
    "stpwrds.extend(string.punctuation) # Merge the 2 lists together.\n",
    "\n",
    "#  Add chorus and verse to the list, as they are not part of the lyrics\n",
    "stpwrds.extend(['chorus', 'verse', 'verses', 'choruses'])\n",
    "                                        "
   ]
  },
  {
   "cell_type": "markdown",
   "id": "6a88a355-5f9a-4d8f-8f39-e7f2f9c74e35",
   "metadata": {},
   "source": [
    "#### Function Declaration"
   ]
  },
  {
   "cell_type": "code",
   "execution_count": 27,
   "id": "729f3332-9329-4614-9f7a-2efd92c4d310",
   "metadata": {},
   "outputs": [],
   "source": [
    "def regex_clean(txt, regex, sub=' '):\n",
    "    \n",
    "    '''This function takes in a string and a regular expression.\n",
    "    It will clean the string by removing any match from the regular expression.\n",
    "    \n",
    "    The output is the cleaned string'''\n",
    "        \n",
    "    return \" \".join(re.sub(regex, sub, txt).split()) ## Substitute the desired regex with nothing,\n",
    "                                                    ## then bring the sentence back together"
   ]
  },
  {
   "cell_type": "code",
   "execution_count": 31,
   "id": "d23028ce-ff9a-4bda-a8c3-4e170dc78592",
   "metadata": {},
   "outputs": [],
   "source": [
    "p_stemmer = PorterStemmer()\n",
    "l_stemmer = LancasterStemmer()\n",
    "s_stemmer = SnowballStemmer(language='english')"
   ]
  },
  {
   "cell_type": "code",
   "execution_count": 32,
   "id": "2aa43bd9-ecf9-4f43-b95a-cc7498393a79",
   "metadata": {},
   "outputs": [],
   "source": [
    "def prep_data(song, stem='s'):\n",
    "    ''' This function takes in a string, clean it using regular expressions, tokenize it, remove\n",
    "    digits and any word shorter than 2 characters.\n",
    "    \n",
    "    It returned the clean and tokenized version of the string'''\n",
    "    assert(stem=='s' or stem=='l' or stem=='p'), '''Input a correct stemming parameter and try again.\n",
    "    The only accepted types are s for Snowball, l for Lancaster or p for Porter. Default is Snowball.'''\n",
    "    \n",
    "    song = song.lower() ## Transform the sentence into lowercase\n",
    "\n",
    "    song = regex_clean(song, r'(\\w)\\1{2,}', r'\\1') # Removing all trailing '\n",
    "    song = regex_clean(song, r\"'\\s|'\\.\", r'g') # Removing triple letters or more.\n",
    "    song = regex_clean(song, r'(\\[.*?\\])', r'') # Removing any characeters inside brackets (including brackets)\n",
    "    song = regex_clean(song, r'(\\W){2,}', r'\\1') # Removing trailing white space\n",
    "    \n",
    "    ## Tokenize \n",
    "    song = nltk.wordpunct_tokenize(song) ## tokenize the string\n",
    "\n",
    "    ## Post Token Cleaning - Stuff that applies to a list \n",
    "        \n",
    "    song = [word for word in song if word not in stpwrds] # Eliminate all extended stopwords from among our tokens\n",
    "    song = [globals()['{}_stemmer'.format(stem)].stem(word) for word in song] # Apply the chosen stemmer\n",
    "    song = [word for word in song if not word.isdigit()] # Remove all digits\n",
    "    song = [word for word in song if len(word)>2] # Remove words shorter than 2 characters, to avoid 'de, tg, ll' etc.\n",
    "\n",
    "\n",
    "    return song"
   ]
  },
  {
   "cell_type": "markdown",
   "id": "308226e7-7303-48a9-b010-5147fd7eb8b9",
   "metadata": {},
   "source": [
    "We first clean the lyrics, using the different stemmers."
   ]
  },
  {
   "cell_type": "code",
   "execution_count": 33,
   "id": "983eedd2-afb3-4e2c-a0c6-57b3a9b2ebd4",
   "metadata": {},
   "outputs": [],
   "source": [
    "lyrics_porter = [\" \".join(prep_data(x, 'p')) for x in df_lyrics['Lyric']]\n",
    "lyrics_lanc = [\" \".join(prep_data(x, 'l')) for x in df_lyrics['Lyric']]"
   ]
  },
  {
   "cell_type": "markdown",
   "id": "0ad869b6-a7c4-4ca2-8258-35584e7e5975",
   "metadata": {},
   "source": [
    "#### Feature and target sets"
   ]
  },
  {
   "cell_type": "code",
   "execution_count": 34,
   "id": "6dc6f23b-4f59-4ba9-9fb2-153fb43c28f6",
   "metadata": {},
   "outputs": [],
   "source": [
    "Porter = pd.Series(lyrics_porter) # Feature set for the Porter stemmer\n",
    "Lanc = pd.Series(lyrics_lanc) # Feature set for the Lancaster stemmer\n",
    "\n",
    "y = df_lyrics['Genre'] # Target set"
   ]
  },
  {
   "cell_type": "code",
   "execution_count": 35,
   "id": "33942149-8798-4842-ba16-c001f0df2781",
   "metadata": {},
   "outputs": [],
   "source": [
    "Porter_train, Porter_test, y_train_Porter, y_test_Porter = train_test_split(Porter.copy(), y.copy(), test_size = 0.2, \n",
    "                                                                            random_state = 42, stratify=y)\n",
    "\n",
    "Lanc_train, Lanc_test, y_train_Lanc, y_test_Lanc = train_test_split(Lanc.copy(), y.copy(), test_size = 0.2,\n",
    "                                                                    random_state = 42, stratify=y)"
   ]
  },
  {
   "cell_type": "code",
   "execution_count": 36,
   "id": "8978df9b-7da6-45cd-a2fc-72e4bb6576f5",
   "metadata": {},
   "outputs": [],
   "source": [
    "Porter_train = vectorizer.fit_transform(Porter_train)\n",
    "Lanc_train = vectorizer.fit_transform(Lanc_train)\n",
    "\n",
    "Porter_test = vectorizer.transform(Porter_test)\n",
    "Lanc_test = vectorizer.transform(Lanc_test)"
   ]
  },
  {
   "cell_type": "markdown",
   "id": "2b97fa0f-6a5d-4621-a961-9539e23621c8",
   "metadata": {},
   "source": [
    "#### _Porter version_"
   ]
  },
  {
   "cell_type": "code",
   "execution_count": null,
   "id": "d9c5da63-64a5-4e1d-838a-932d2653f7fb",
   "metadata": {},
   "outputs": [],
   "source": [
    "now = time()\n",
    "lr_port = LogisticRegression(max_iter=200)\n",
    "lr_port.fit(Porter_train, y_train_Porter)\n",
    "print(\"Time elapsed in seconds: {}\".format(time()-now))"
   ]
  },
  {
   "cell_type": "code",
   "execution_count": 42,
   "id": "04e5f5fd-9b57-4b28-827d-4100089ad7a1",
   "metadata": {},
   "outputs": [
    {
     "name": "stdout",
     "output_type": "stream",
     "text": [
      "Accuracy:0.5605688754640992\n",
      "Precision:0.5036010993945575\n",
      "Recall:0.5605688754640992\n",
      "F1:0.5158180629774124\n"
     ]
    },
    {
     "data": {
      "text/plain": [
       "(0.5605688754640992,\n",
       " 0.5036010993945575,\n",
       " 0.5605688754640992,\n",
       " 0.5158180629774124)"
      ]
     },
     "execution_count": 42,
     "metadata": {},
     "output_type": "execute_result"
    }
   ],
   "source": [
    "apr(lr_port.predict(Porter_test), y_test_Porter)"
   ]
  },
  {
   "cell_type": "markdown",
   "id": "8f0bec2e-d370-4508-aa08-9efcd8009a84",
   "metadata": {},
   "source": [
    "#### _Lancaster version_"
   ]
  },
  {
   "cell_type": "code",
   "execution_count": null,
   "id": "6cd9afc0-2775-4916-8c9e-42584f207120",
   "metadata": {},
   "outputs": [],
   "source": [
    "now = time()\n",
    "lr_lan = LogisticRegression(max_iter=200)\n",
    "lr_lan.fit(Lanc_train, y_train_Lanc)\n",
    "print(\"Time elapsed in seconds: {}\".format(time()-now))"
   ]
  },
  {
   "cell_type": "code",
   "execution_count": 43,
   "id": "f458de28-a292-4323-8b12-01abf5d0a11d",
   "metadata": {},
   "outputs": [
    {
     "name": "stdout",
     "output_type": "stream",
     "text": [
      "Accuracy:0.74608268831414\n",
      "Precision:0.7350863966353448\n",
      "Recall:0.74608268831414\n",
      "F1:0.7299560506110782\n"
     ]
    },
    {
     "data": {
      "text/plain": [
       "(0.74608268831414, 0.7350863966353448, 0.74608268831414, 0.7299560506110782)"
      ]
     },
     "execution_count": 43,
     "metadata": {},
     "output_type": "execute_result"
    }
   ],
   "source": [
    "apr(lr_lan.predict(Lanc_test), y_test_Lanc)"
   ]
  },
  {
   "cell_type": "markdown",
   "id": "279faf47-8800-4a3e-95be-b40bd98459bd",
   "metadata": {},
   "source": [
    "\n",
    "_**Assumption:**_ Improvements resulting directly from versions/parameter choices/parameter tuning when it comes to :\n",
    "\n",
    "    1) Stemming,\n",
    "    \n",
    "    2) Model hyperparameter tuning (C, penalty, solver),\n",
    "    \n",
    "    3) CV, split, seed choice,\n",
    "    \n",
    "    4) Vectorizing parameters,\n",
    "    \n",
    "    5) Feature Enrichment.\n",
    "    \n",
    "are _independent performance enhancers_ - that is - they **do not** affect each other and can be optimally combined by choosing the best iteration from all categories.\n",
    "\n",
    "<u>Example:</u> If for criteria A, exhibit a is better than b and/or c ; and for criteria B exhibit x is better than y and/or z : Then the optimal model performance is achieved by selecting exhibit a from criteria A and exhibit x from criteria B. Any other combination: (a,y), (a,z), (b,x), (b,y), (b,z), (c,x), (c,y), (c,z) will yield a worse performance. This claim is necesarilly true and universally follows if and only if the assumption provided above is considered.\n",
    "\n",
    "~~~~~~~~~~~~~~~~~~~~~~~~~~~~~~~~~~~~~~~~~~~~~~~~~~~~~~~~~~~~~~~~~~~~\n",
    "~~~~~~~~~~~~~~~~~~~~~~~~~~~~~~~~~~~~~~~~~~~~~~~~~~~~~~~~~~~~~~~~~~~~\n",
    "\n",
    "With these considerations, the ideal parameters of choice were:\n",
    "\n",
    "    1) Snowball stemmer\n",
    "\n",
    "    2) Newton solver on ridge penalization, with balanced point regularisation (C=1) and EPP'd.\n",
    "\n",
    "    3) Irrelevant to selection: let split = 80%, seed=42\n",
    "\n",
    "    4) Performance slightly increases with features considered, but so does memory - at a quadratic* faster rate. Select 1000 for best memory performance, 5000 for best accuracy performance.\n",
    "\n",
    "    5) Trails + Word frequency columns"
   ]
  }
 ],
 "metadata": {
  "kernelspec": {
   "display_name": "Python 3 (ipykernel)",
   "language": "python",
   "name": "python3"
  },
  "language_info": {
   "codemirror_mode": {
    "name": "ipython",
    "version": 3
   },
   "file_extension": ".py",
   "mimetype": "text/x-python",
   "name": "python",
   "nbconvert_exporter": "python",
   "pygments_lexer": "ipython3",
   "version": "3.8.12"
  }
 },
 "nbformat": 4,
 "nbformat_minor": 5
}
